{
 "cells": [
  {
   "cell_type": "code",
   "execution_count": 1,
   "metadata": {},
   "outputs": [],
   "source": [
    "import tensorflow as tf\n",
    "from tensorflow import keras\n",
    "from tensorflow.keras import layers, models\n",
    "import pandas as pd\n",
    "import numpy as np"
   ]
  },
  {
   "cell_type": "code",
   "execution_count": 2,
   "metadata": {},
   "outputs": [
    {
     "name": "stdout",
     "output_type": "stream",
     "text": [
      "Importing Data:\n",
      "\n",
      "Mapping Validation Data:\n",
      "\n",
      "Mapping Train Data\n",
      "\n",
      "Begin Training: \n"
     ]
    }
   ],
   "source": [
    "# Importing Data:\n",
    "print(\"Importing Data:\")\n",
    "pd.set_option('display.max_columns', None)\n",
    "train_data = pd.read_csv(\"D:\\\\PUBG_preprocessed_training_data.csv\")\n",
    "validation_data = pd.read_csv(\"D:\\\\PUBG_preprocessed_validation_data.csv\")\n",
    "\n",
    "print(\"\\nMapping Validation Data:\")\n",
    "validation_targets = pd.DataFrame(validation_data['winPlacePerc'])\n",
    "validation_inputs = validation_data.drop([\"Unnamed: 0\", \"Id\", \"winPlacePerc\"], axis=1)\n",
    "\n",
    "print(\"\\nMapping Train Data\")\n",
    "train_IDS = pd.DataFrame(train_data[\"Id\"])\n",
    "train_targets = pd.DataFrame(train_data[\"winPlacePerc\"])\n",
    "train_inputs = train_data.drop([\"Unnamed: 0\", \"Id\", \"winPlacePerc\"], axis=1)\n",
    "\n",
    "print(\"\\nBegin Training: \")"
   ]
  },
  {
   "cell_type": "code",
   "execution_count": 3,
   "metadata": {},
   "outputs": [
    {
     "name": "stdout",
     "output_type": "stream",
     "text": [
      "WARNING:tensorflow:From C:\\Users\\retic\\Anaconda3\\lib\\site-packages\\tensorflow\\python\\framework\\op_def_library.py:263: colocate_with (from tensorflow.python.framework.ops) is deprecated and will be removed in a future version.\n",
      "Instructions for updating:\n",
      "Colocations handled automatically by placer.\n",
      "WARNING:tensorflow:From C:\\Users\\retic\\Anaconda3\\lib\\site-packages\\tensorflow\\python\\ops\\losses\\losses_impl.py:667: to_float (from tensorflow.python.ops.math_ops) is deprecated and will be removed in a future version.\n",
      "Instructions for updating:\n",
      "Use tf.cast instead.\n"
     ]
    }
   ],
   "source": [
    "# Setting Constants\n",
    "input_size = 66\n",
    "output_size = 1\n",
    "hidden_layer_size = 50\n",
    "\n",
    "# Building the Model\n",
    "tf.reset_default_graph()\n",
    "\n",
    "inputs = tf.placeholder(tf.float32, [None, input_size])\n",
    "targets = tf.placeholder(tf.float32, [None, output_size])\n",
    "\n",
    "weights_1 = tf.get_variable(\"Weights_1\", [input_size, hidden_layer_size])\n",
    "biases_1 = tf.get_variable(\"Biases_1\", [hidden_layer_size])\n",
    "outputs_1 = tf.nn.relu(tf.matmul(inputs, weights_1) + biases_1)\n",
    "\n",
    "weights_2 = tf.get_variable(\"Weights_2\", [hidden_layer_size, hidden_layer_size])\n",
    "biases_2 = tf.get_variable(\"Biases_2\", [hidden_layer_size])\n",
    "outputs_2 = tf.nn.relu(tf.matmul(outputs_1, weights_2) + biases_2)\n",
    "\n",
    "weights_3 = tf.get_variable(\"Weights_3\", [hidden_layer_size, hidden_layer_size])\n",
    "biases_3 = tf.get_variable(\"Biases_3\", [hidden_layer_size])\n",
    "outputs_3 = tf.nn.relu(tf.matmul(outputs_2, weights_3) + biases_3)\n",
    "\n",
    "weights_4 = tf.get_variable(\"Weights_4\", [hidden_layer_size, hidden_layer_size])\n",
    "biases_4 = tf.get_variable(\"Biases_4\", [hidden_layer_size])\n",
    "outputs_4 = tf.nn.relu(tf.matmul(outputs_3, weights_4) + biases_4)\n",
    "\n",
    "weights_5 = tf.get_variable(\"Weights_5\", [hidden_layer_size, hidden_layer_size])\n",
    "biases_5 = tf.get_variable(\"Biases_5\", [hidden_layer_size])\n",
    "outputs_5 = tf.nn.relu(tf.matmul(outputs_4, weights_5) + biases_5)\n",
    "\n",
    "weights_final = tf.get_variable(\"Weights_Final\", [hidden_layer_size, output_size])\n",
    "biases_final = tf.get_variable(\"Biases_Final\", [output_size])\n",
    "output = tf.nn.relu(tf.matmul(outputs_5, weights_final) + biases_final)\n",
    "\n",
    "mean_loss = tf.losses.mean_squared_error(labels=targets, predictions=output)\n",
    "abs_mean_loss = tf.reduce_mean(tf.losses.absolute_difference(labels=targets, predictions=output))\n",
    "\n",
    "optimize = tf.train.AdamOptimizer(learning_rate=0.001).minimize(abs_mean_loss)"
   ]
  },
  {
   "cell_type": "code",
   "execution_count": null,
   "metadata": {},
   "outputs": [
    {
     "name": "stdout",
     "output_type": "stream",
     "text": [
      "Running Algorithm: \n",
      "Epoch 1. Training Loss: 0.31805. Training Abs Loss: 0.47284. Validation Loss: 0.31610. Validation Abs Loss: 0.47100\n",
      "Epoch 2. Training Loss: 0.31726. Training Abs Loss: 0.47228. Validation Loss: 0.31330. Validation Abs Loss: 0.46886\n",
      "Epoch 3. Training Loss: 0.31452. Training Abs Loss: 0.47019. Validation Loss: 0.30576. Validation Abs Loss: 0.46307\n",
      "Epoch 4. Training Loss: 0.30698. Training Abs Loss: 0.46437. Validation Loss: 0.28917. Validation Abs Loss: 0.44954\n",
      "Epoch 5. Training Loss: 0.29026. Training Abs Loss: 0.45073. Validation Loss: 0.25860. Validation Abs Loss: 0.42204\n"
     ]
    }
   ],
   "source": [
    "# Initializing the session for the Model to run:\n",
    "sess = tf.InteractiveSession()\n",
    "\n",
    "initializer = tf.global_variables_initializer()\n",
    "\n",
    "prev_validation_loss = 9999999\n",
    "\n",
    "sess.run(initializer)\n",
    "print(\"Running Algorithm: \")\n",
    "epoch = 1\n",
    "while True:\n",
    "    _, square_loss, absolute_loss = sess.run([optimize, mean_loss, abs_mean_loss], feed_dict={inputs: train_inputs, targets: train_targets})\n",
    "\n",
    "    validation_square_loss, validation_absolute_loss = sess.run([mean_loss, abs_mean_loss], feed_dict={inputs: validation_inputs, targets: validation_targets})\n",
    "    \n",
    "    print('Epoch ' +str(epoch) +\n",
    "         '. Training Loss: ' + '{0:.5f}'.format(square_loss) +\n",
    "         '. Training Abs Loss: ' + '{0:.5f}' .format(absolute_loss) +\n",
    "         '. Validation Loss: ' + '{0:.5f}'.format(validation_square_loss) +\n",
    "         '. Validation Abs Loss: ' + '{0:.5f}'.format(validation_absolute_loss))\n",
    "\n",
    "    if validation_absolute_loss > prev_validation_loss:\n",
    "        print(\"Early Stopping Activated.\\n\")\n",
    "        break\n",
    "\n",
    "    prev_validation_loss = validation_absolute_loss\n",
    "    epoch += 1\n",
    "\n",
    "print(\"End of Training.\")\n",
    "sess.close()"
   ]
  },
  {
   "cell_type": "code",
   "execution_count": null,
   "metadata": {},
   "outputs": [],
   "source": []
  },
  {
   "cell_type": "code",
   "execution_count": null,
   "metadata": {},
   "outputs": [],
   "source": [
    "# model = models.Sequential()"
   ]
  },
  {
   "cell_type": "code",
   "execution_count": null,
   "metadata": {},
   "outputs": [],
   "source": [
    "# model.add(layers.Dense(50, activation = \"tanh\", input_shape=(train_inputs.shape[1],)))\n",
    "# model.add(layers.Dense(50, activation = \"tanh\"))\n",
    "# model.add(layers.Dense(50, activation = \"tanh\"))\n",
    "# model.add(layers.Dense(50, activation = \"tanh\"))\n",
    "# model.add(layers.Dense(1, activation = \"tanh\"))\n",
    "# model.compile(optimizer = \"adam\", loss = \"logcosh\", metrics = [\"mae\"])"
   ]
  },
  {
   "cell_type": "code",
   "execution_count": null,
   "metadata": {},
   "outputs": [],
   "source": [
    "# results = model.fit(\n",
    "#  train_inputs, train_targets,\n",
    "#  epochs= 1,\n",
    "#  batch_size = 500,\n",
    "#  validation_data = (train_validation_inputs, train_validation_targets)\n",
    "# )"
   ]
  },
  {
   "cell_type": "code",
   "execution_count": null,
   "metadata": {},
   "outputs": [],
   "source": [
    "# results.history"
   ]
  },
  {
   "cell_type": "code",
   "execution_count": null,
   "metadata": {},
   "outputs": [],
   "source": []
  },
  {
   "cell_type": "code",
   "execution_count": null,
   "metadata": {},
   "outputs": [],
   "source": []
  }
 ],
 "metadata": {
  "kernelspec": {
   "display_name": "Python 3",
   "language": "python",
   "name": "python3"
  },
  "language_info": {
   "codemirror_mode": {
    "name": "ipython",
    "version": 3
   },
   "file_extension": ".py",
   "mimetype": "text/x-python",
   "name": "python",
   "nbconvert_exporter": "python",
   "pygments_lexer": "ipython3",
   "version": "3.6.7"
  }
 },
 "nbformat": 4,
 "nbformat_minor": 2
}
