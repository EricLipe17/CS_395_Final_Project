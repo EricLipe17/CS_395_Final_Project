{
 "cells": [
  {
   "cell_type": "markdown",
   "metadata": {},
   "source": [
    "## Importing Libraries:"
   ]
  },
  {
   "cell_type": "code",
   "execution_count": 1,
   "metadata": {},
   "outputs": [],
   "source": [
    "import pandas as pd\n",
    "import numpy as np\n",
    "from sklearn import preprocessing"
   ]
  },
  {
   "cell_type": "markdown",
   "metadata": {},
   "source": [
    "## Importing the Data:"
   ]
  },
  {
   "cell_type": "code",
   "execution_count": 2,
   "metadata": {},
   "outputs": [],
   "source": [
    "pd.set_option('display.max_columns', None)\n",
    "raw_data = pd.read_csv(\"train_V2.csv\")\n",
    "# raw_data.head()"
   ]
  },
  {
   "cell_type": "markdown",
   "metadata": {},
   "source": [
    "## Reducing Memory Usage:"
   ]
  },
  {
   "cell_type": "code",
   "execution_count": 111,
   "metadata": {},
   "outputs": [],
   "source": [
    "def reduce_mem_usage(df):\n",
    "    \"\"\" iterate through all the columns of a dataframe and modify the data type\n",
    "        to reduce memory usage.        \n",
    "    \"\"\"\n",
    "    #start_mem = df.memory_usage().sum() / 1024**2\n",
    "    #print('Memory usage of dataframe is {:.2f} MB'.format(start_mem))\n",
    "    #print('{')\n",
    "    one_hot_encoded_columns = ['killPlace_Group1', 'killPlace_Group2', 'killPlace_Group3',\n",
    "       'killPlace_Group4', 'killPlace_Group5', 'killPlace_Group6',\n",
    "       'killPlace_Group7', 'killPlace_Group8', 'killPlace_Group9',\n",
    "       'killPlace_Group10', 'crashfpp', 'crashtpp',\n",
    "       'duo', 'duo-fpp', 'flarefpp', 'flaretpp', 'normal-duo',\n",
    "       'normal-duo-fpp', 'normal-solo', 'normal-solo-fpp', 'normal-squad',\n",
    "       'normal-squad-fpp', 'solo', 'solo-fpp', 'squad', 'squad-fpp',\n",
    "       'maxPlace_Group1', 'maxPlace_Group2', 'maxPlace_Group3',\n",
    "       'maxPlace_Group4', 'maxPlace_Group5', 'maxPlace_Group6',\n",
    "       'maxPlace_Group7', 'maxPlace_Group8', 'maxPlace_Group9',\n",
    "       'maxPlace_Group10', 'numGroups_Group1', 'numGroups_Group2',\n",
    "       'numGroups_Group3', 'numGroups_Group4', 'numGroups_Group5',\n",
    "       'numGroups_Group6', 'numGroups_Group7', 'numGroups_Group8',\n",
    "       'numGroups_Group9', 'numGroups_Group10']\n",
    "    for col in df.columns:\n",
    "        col_type = df[col].dtype\n",
    "\n",
    "        if col_type != object:\n",
    "            if col in one_hot_encoded_columns:\n",
    "                df[col] = df[col].astype(np.int8)\n",
    "            else:\n",
    "                df[col] = df[col].astype(np.float32)\n",
    "        \n",
    "        col_type = str(df[col].dtype)\n",
    "        if col_type == 'object':\n",
    "            col_type = 'str'\n",
    "        else:\n",
    "            col_type = 'np.' + col_type    \n",
    "        #print('\\'' + col + '\\':' + col_type + ',')\n",
    "    #end_mem = df.memory_usage().sum() / 1024**2\n",
    "    #print('Memory usage after optimization is: {:.2f} MB'.format(end_mem))\n",
    "    #print('Decreased by {:.1f}%'.format(100 * (start_mem - end_mem) / start_mem))\n",
    "    #print('}')\n",
    "    return df"
   ]
  },
  {
   "cell_type": "code",
   "execution_count": 4,
   "metadata": {},
   "outputs": [],
   "source": [
    "# raw_data = reduce_mem_usage(raw_data)"
   ]
  },
  {
   "cell_type": "markdown",
   "metadata": {},
   "source": [
    "## Getting Generic Feel for Dataset"
   ]
  },
  {
   "cell_type": "code",
   "execution_count": 5,
   "metadata": {},
   "outputs": [
    {
     "name": "stdout",
     "output_type": "stream",
     "text": [
      "<class 'pandas.core.frame.DataFrame'>\n",
      "RangeIndex: 4446966 entries, 0 to 4446965\n",
      "Data columns (total 29 columns):\n",
      "Id                 object\n",
      "groupId            object\n",
      "matchId            object\n",
      "assists            int64\n",
      "boosts             int64\n",
      "damageDealt        float64\n",
      "DBNOs              int64\n",
      "headshotKills      int64\n",
      "heals              int64\n",
      "killPlace          int64\n",
      "killPoints         int64\n",
      "kills              int64\n",
      "killStreaks        int64\n",
      "longestKill        float64\n",
      "matchDuration      int64\n",
      "matchType          object\n",
      "maxPlace           int64\n",
      "numGroups          int64\n",
      "rankPoints         int64\n",
      "revives            int64\n",
      "rideDistance       float64\n",
      "roadKills          int64\n",
      "swimDistance       float64\n",
      "teamKills          int64\n",
      "vehicleDestroys    int64\n",
      "walkDistance       float64\n",
      "weaponsAcquired    int64\n",
      "winPoints          int64\n",
      "winPlacePerc       float64\n",
      "dtypes: float64(6), int64(19), object(4)\n",
      "memory usage: 983.9+ MB\n"
     ]
    },
    {
     "data": {
      "text/plain": [
       "(None, (4446966, 29))"
      ]
     },
     "execution_count": 5,
     "metadata": {},
     "output_type": "execute_result"
    }
   ],
   "source": [
    "raw_data.info(), raw_data.shape"
   ]
  },
  {
   "cell_type": "markdown",
   "metadata": {},
   "source": [
    "## Checking Individual Players Occur only Once:"
   ]
  },
  {
   "cell_type": "code",
   "execution_count": 6,
   "metadata": {},
   "outputs": [],
   "source": [
    "id_column_unique = raw_data['Id'].unique()"
   ]
  },
  {
   "cell_type": "code",
   "execution_count": 7,
   "metadata": {},
   "outputs": [
    {
     "data": {
      "text/plain": [
       "(4446966,)"
      ]
     },
     "execution_count": 7,
     "metadata": {},
     "output_type": "execute_result"
    }
   ],
   "source": [
    "id_column_unique.shape"
   ]
  },
  {
   "cell_type": "markdown",
   "metadata": {},
   "source": [
    "## Removing 'groupId' & 'matchId':"
   ]
  },
  {
   "cell_type": "code",
   "execution_count": 8,
   "metadata": {},
   "outputs": [],
   "source": [
    "raw_data = raw_data.drop(['groupId'], axis=1)"
   ]
  },
  {
   "cell_type": "code",
   "execution_count": 9,
   "metadata": {},
   "outputs": [],
   "source": [
    "raw_data = raw_data.drop(['matchId'], axis=1)"
   ]
  },
  {
   "cell_type": "markdown",
   "metadata": {},
   "source": [
    "# Creating a Checkpoint:"
   ]
  },
  {
   "cell_type": "code",
   "execution_count": 10,
   "metadata": {},
   "outputs": [],
   "source": [
    "new_raw_data = raw_data.copy()\n",
    "# new_raw_data.head()"
   ]
  },
  {
   "cell_type": "markdown",
   "metadata": {},
   "source": [
    "## Preprocess 'assists' column:"
   ]
  },
  {
   "cell_type": "code",
   "execution_count": 11,
   "metadata": {},
   "outputs": [
    {
     "data": {
      "text/plain": [
       "(array([ 0,  1,  3,  2,  4,  6,  5,  8,  9,  7, 13, 11, 12, 21, 10, 20, 14,\n",
       "        17, 22, 15], dtype=int64), 0)"
      ]
     },
     "execution_count": 11,
     "metadata": {},
     "output_type": "execute_result"
    }
   ],
   "source": [
    "new_raw_data['assists'].unique(), new_raw_data['assists'].isna().sum()"
   ]
  },
  {
   "cell_type": "code",
   "execution_count": 12,
   "metadata": {},
   "outputs": [
    {
     "name": "stderr",
     "output_type": "stream",
     "text": [
      "C:\\Users\\retic\\Anaconda3\\lib\\site-packages\\sklearn\\utils\\validation.py:595: DataConversionWarning: Data with input dtype int64 was converted to float64 by the scale function.\n",
      "  warnings.warn(msg, DataConversionWarning)\n"
     ]
    }
   ],
   "source": [
    "# We are going to standardize the 'assists' column since it is a ratio data type.\n",
    "new_raw_data['assists'] = preprocessing.scale(new_raw_data['assists'])\n",
    "# new_raw_data.head()"
   ]
  },
  {
   "cell_type": "code",
   "execution_count": 13,
   "metadata": {},
   "outputs": [
    {
     "data": {
      "text/plain": [
       "(1.0166095617267228e-16, 1.0000001124362283)"
      ]
     },
     "execution_count": 13,
     "metadata": {},
     "output_type": "execute_result"
    }
   ],
   "source": [
    "new_raw_data['assists'].mean(), new_raw_data['assists'].std()"
   ]
  },
  {
   "cell_type": "markdown",
   "metadata": {},
   "source": [
    "## Preprocessing 'boosts' column"
   ]
  },
  {
   "cell_type": "code",
   "execution_count": 14,
   "metadata": {},
   "outputs": [
    {
     "data": {
      "text/plain": [
       "(array([ 0,  1,  2,  3,  4,  6,  5,  9,  7,  8, 11, 10, 13, 14, 12, 21, 15,\n",
       "        20, 16, 17, 33, 19, 18, 24, 28, 23, 22], dtype=int64), 0)"
      ]
     },
     "execution_count": 14,
     "metadata": {},
     "output_type": "execute_result"
    }
   ],
   "source": [
    "new_raw_data['boosts'].unique(), new_raw_data['boosts'].isna().sum()"
   ]
  },
  {
   "cell_type": "code",
   "execution_count": 15,
   "metadata": {},
   "outputs": [
    {
     "name": "stderr",
     "output_type": "stream",
     "text": [
      "C:\\Users\\retic\\Anaconda3\\lib\\site-packages\\sklearn\\utils\\validation.py:595: DataConversionWarning: Data with input dtype int64 was converted to float64 by the scale function.\n",
      "  warnings.warn(msg, DataConversionWarning)\n"
     ]
    }
   ],
   "source": [
    "# We are going to standardize the 'boosts' column since it is a ratio data type.\n",
    "new_raw_data['boosts'] = preprocessing.scale(new_raw_data['boosts'])\n",
    "# new_raw_data.head()"
   ]
  },
  {
   "cell_type": "code",
   "execution_count": 16,
   "metadata": {},
   "outputs": [],
   "source": [
    "# Checking more of the data frame\n",
    "# new_raw_data.head()"
   ]
  },
  {
   "cell_type": "markdown",
   "metadata": {},
   "source": [
    "## Preprocessing 'damageDealt' column"
   ]
  },
  {
   "cell_type": "code",
   "execution_count": 17,
   "metadata": {},
   "outputs": [
    {
     "data": {
      "text/plain": [
       "((29916,), 0)"
      ]
     },
     "execution_count": 17,
     "metadata": {},
     "output_type": "execute_result"
    }
   ],
   "source": [
    "damage_dealt = new_raw_data['damageDealt'].unique()\n",
    "damage_dealt.shape, new_raw_data['damageDealt'].isna().sum()"
   ]
  },
  {
   "cell_type": "code",
   "execution_count": 18,
   "metadata": {},
   "outputs": [
    {
     "data": {
      "text/plain": [
       "0"
      ]
     },
     "execution_count": 18,
     "metadata": {},
     "output_type": "execute_result"
    }
   ],
   "source": [
    "# checking for negative damage dealt\n",
    "damage_count = 0\n",
    "for i in new_raw_data['damageDealt']:\n",
    "    if i < 0:\n",
    "        damage_count += 1\n",
    "damage_count"
   ]
  },
  {
   "cell_type": "code",
   "execution_count": 19,
   "metadata": {},
   "outputs": [],
   "source": [
    "# Now that we know 'damageDealt' cant be negative we are going to standardize it since it is a ration type\n",
    "new_raw_data['damageDealt'] = preprocessing.scale(new_raw_data['damageDealt'])\n",
    "# new_raw_data.head()"
   ]
  },
  {
   "cell_type": "markdown",
   "metadata": {},
   "source": [
    "## Preprocessing 'DBNOs' column: \n",
    "where DBNOs is an acronym for \"Down But Not Out,\" i.e. how many players each player knocked down but did not kill."
   ]
  },
  {
   "cell_type": "code",
   "execution_count": 20,
   "metadata": {},
   "outputs": [
    {
     "data": {
      "text/plain": [
       "(array([ 0,  1,  6,  4,  3,  2,  5, 10,  8,  7,  9, 13, 21, 12, 11, 19, 32,\n",
       "        18, 24, 22, 20, 14, 15, 26, 17, 16, 25, 27, 23, 33, 38, 30, 29, 31,\n",
       "        39, 35, 40, 28, 53], dtype=int64), 0)"
      ]
     },
     "execution_count": 20,
     "metadata": {},
     "output_type": "execute_result"
    }
   ],
   "source": [
    "new_raw_data['DBNOs'].unique(), new_raw_data['DBNOs'].isna().sum()"
   ]
  },
  {
   "cell_type": "code",
   "execution_count": 21,
   "metadata": {},
   "outputs": [
    {
     "name": "stderr",
     "output_type": "stream",
     "text": [
      "C:\\Users\\retic\\Anaconda3\\lib\\site-packages\\sklearn\\utils\\validation.py:595: DataConversionWarning: Data with input dtype int64 was converted to float64 by the scale function.\n",
      "  warnings.warn(msg, DataConversionWarning)\n"
     ]
    }
   ],
   "source": [
    "# We are going to standardize the 'DBNOs' column since it is a ratio data type.\n",
    "new_raw_data['DBNOs'] = preprocessing.scale(new_raw_data['DBNOs'])\n",
    "# new_raw_data.head()"
   ]
  },
  {
   "cell_type": "markdown",
   "metadata": {},
   "source": [
    "## Preprocessing 'headshotKills' column"
   ]
  },
  {
   "cell_type": "code",
   "execution_count": 22,
   "metadata": {},
   "outputs": [
    {
     "data": {
      "text/plain": [
       "(array([ 0,  1,  2,  3,  6,  4,  5,  8,  9,  7, 17, 10, 14, 12, 40, 11, 13,\n",
       "        15, 16, 18, 27, 19, 21, 23, 42, 31, 20, 46, 39, 34, 26, 64, 41, 35],\n",
       "       dtype=int64), 0)"
      ]
     },
     "execution_count": 22,
     "metadata": {},
     "output_type": "execute_result"
    }
   ],
   "source": [
    "new_raw_data['headshotKills'].unique(), new_raw_data['headshotKills'].isna().sum()"
   ]
  },
  {
   "cell_type": "code",
   "execution_count": 23,
   "metadata": {},
   "outputs": [
    {
     "name": "stderr",
     "output_type": "stream",
     "text": [
      "C:\\Users\\retic\\Anaconda3\\lib\\site-packages\\sklearn\\utils\\validation.py:595: DataConversionWarning: Data with input dtype int64 was converted to float64 by the scale function.\n",
      "  warnings.warn(msg, DataConversionWarning)\n"
     ]
    }
   ],
   "source": [
    "# We are going to standardize the 'headshotKills' column since it is a ratio data type.\n",
    "new_raw_data['headshotKills'] = preprocessing.scale(new_raw_data['headshotKills'])\n",
    "# new_raw_data.head()"
   ]
  },
  {
   "cell_type": "markdown",
   "metadata": {},
   "source": [
    "## Preprocessing 'heals' column"
   ]
  },
  {
   "cell_type": "code",
   "execution_count": 24,
   "metadata": {},
   "outputs": [
    {
     "data": {
      "text/plain": [
       "(array([ 0,  5,  2, 14, 12,  1,  8,  3,  4,  6,  9, 13,  7, 24, 10, 15, 25,\n",
       "        11, 18, 17, 20, 16, 29, 23, 19, 21, 22, 27, 28, 32, 47, 26, 31, 30,\n",
       "        43, 33, 37, 34, 38, 52, 35, 42, 48, 40, 41, 44, 39, 45, 36, 61, 46,\n",
       "        57, 63, 50, 55, 49, 59, 54, 51, 56, 73, 80, 62], dtype=int64), 0)"
      ]
     },
     "execution_count": 24,
     "metadata": {},
     "output_type": "execute_result"
    }
   ],
   "source": [
    "new_raw_data['heals'].unique(), new_raw_data['heals'].isna().sum()"
   ]
  },
  {
   "cell_type": "code",
   "execution_count": 25,
   "metadata": {},
   "outputs": [
    {
     "name": "stderr",
     "output_type": "stream",
     "text": [
      "C:\\Users\\retic\\Anaconda3\\lib\\site-packages\\sklearn\\utils\\validation.py:595: DataConversionWarning: Data with input dtype int64 was converted to float64 by the scale function.\n",
      "  warnings.warn(msg, DataConversionWarning)\n"
     ]
    }
   ],
   "source": [
    "# We are going to standardize the 'headshotKills' column since it is a ratio data type.\n",
    "new_raw_data['heals'] = preprocessing.scale(new_raw_data['heals'])\n",
    "# new_raw_data.head()"
   ]
  },
  {
   "cell_type": "markdown",
   "metadata": {},
   "source": [
    "## Prepocessing 'killPlace' column"
   ]
  },
  {
   "cell_type": "code",
   "execution_count": 26,
   "metadata": {},
   "outputs": [
    {
     "data": {
      "text/plain": [
       "(array([ 60,  57,  47,  75,  45,  44,  96,  48,  64,  74,  37,   5,  25,\n",
       "         72,  13,  79,  18,  15,   2,   3,  11,  78,   7,   6,  87,  62,\n",
       "         80,  61,  34,  24,  82,  73,  31,  86,  46,  12,  27,  77,  19,\n",
       "         10,  63,  67,  36,   4,  29,  16,   8,  41,  21,  38,  55,  49,\n",
       "         91,  54,  40,  69,  92,  23,  71,  30,  20,  81,  56,  84,  66,\n",
       "         52,  85,  94,  50,  83,  58,  68,  65,  28,  26,  51,  35,  90,\n",
       "         89,  42,  59,  53,  33,   9,  88,  43,  70,  17,  76,   1,  95,\n",
       "         99,  22,  39,  32,  93,  14,  97,  98, 100, 101], dtype=int64), 0)"
      ]
     },
     "execution_count": 26,
     "metadata": {},
     "output_type": "execute_result"
    }
   ],
   "source": [
    "new_raw_data['killPlace'].unique(), new_raw_data['killPlace'].isna().sum()"
   ]
  },
  {
   "cell_type": "code",
   "execution_count": 27,
   "metadata": {},
   "outputs": [
    {
     "data": {
      "text/html": [
       "<div>\n",
       "<style scoped>\n",
       "    .dataframe tbody tr th:only-of-type {\n",
       "        vertical-align: middle;\n",
       "    }\n",
       "\n",
       "    .dataframe tbody tr th {\n",
       "        vertical-align: top;\n",
       "    }\n",
       "\n",
       "    .dataframe thead th {\n",
       "        text-align: right;\n",
       "    }\n",
       "</style>\n",
       "<table border=\"1\" class=\"dataframe\">\n",
       "  <thead>\n",
       "    <tr style=\"text-align: right;\">\n",
       "      <th></th>\n",
       "      <th>Id</th>\n",
       "      <th>assists</th>\n",
       "      <th>boosts</th>\n",
       "      <th>damageDealt</th>\n",
       "      <th>DBNOs</th>\n",
       "      <th>headshotKills</th>\n",
       "      <th>heals</th>\n",
       "      <th>killPlace</th>\n",
       "      <th>killPoints</th>\n",
       "      <th>kills</th>\n",
       "      <th>killStreaks</th>\n",
       "      <th>longestKill</th>\n",
       "      <th>matchDuration</th>\n",
       "      <th>matchType</th>\n",
       "      <th>maxPlace</th>\n",
       "      <th>numGroups</th>\n",
       "      <th>rankPoints</th>\n",
       "      <th>revives</th>\n",
       "      <th>rideDistance</th>\n",
       "      <th>roadKills</th>\n",
       "      <th>swimDistance</th>\n",
       "      <th>teamKills</th>\n",
       "      <th>vehicleDestroys</th>\n",
       "      <th>walkDistance</th>\n",
       "      <th>weaponsAcquired</th>\n",
       "      <th>winPoints</th>\n",
       "      <th>winPlacePerc</th>\n",
       "    </tr>\n",
       "  </thead>\n",
       "  <tbody>\n",
       "    <tr>\n",
       "      <th>3679420</th>\n",
       "      <td>a1e45f366ad76f</td>\n",
       "      <td>-0.397257</td>\n",
       "      <td>-0.645129</td>\n",
       "      <td>-0.375143</td>\n",
       "      <td>-0.574191</td>\n",
       "      <td>-0.37668</td>\n",
       "      <td>-0.511252</td>\n",
       "      <td>101</td>\n",
       "      <td>0</td>\n",
       "      <td>0</td>\n",
       "      <td>0</td>\n",
       "      <td>0.0</td>\n",
       "      <td>1864</td>\n",
       "      <td>normal-squad</td>\n",
       "      <td>25</td>\n",
       "      <td>25</td>\n",
       "      <td>1500</td>\n",
       "      <td>0</td>\n",
       "      <td>0.0</td>\n",
       "      <td>0</td>\n",
       "      <td>0.0</td>\n",
       "      <td>0</td>\n",
       "      <td>0</td>\n",
       "      <td>8.277</td>\n",
       "      <td>1</td>\n",
       "      <td>0</td>\n",
       "      <td>0.0</td>\n",
       "    </tr>\n",
       "  </tbody>\n",
       "</table>\n",
       "</div>"
      ],
      "text/plain": [
       "                     Id   assists    boosts  damageDealt     DBNOs  \\\n",
       "3679420  a1e45f366ad76f -0.397257 -0.645129    -0.375143 -0.574191   \n",
       "\n",
       "         headshotKills     heals  killPlace  killPoints  kills  killStreaks  \\\n",
       "3679420       -0.37668 -0.511252        101           0      0            0   \n",
       "\n",
       "         longestKill  matchDuration     matchType  maxPlace  numGroups  \\\n",
       "3679420          0.0           1864  normal-squad        25         25   \n",
       "\n",
       "         rankPoints  revives  rideDistance  roadKills  swimDistance  \\\n",
       "3679420        1500        0           0.0          0           0.0   \n",
       "\n",
       "         teamKills  vehicleDestroys  walkDistance  weaponsAcquired  winPoints  \\\n",
       "3679420          0                0         8.277                1          0   \n",
       "\n",
       "         winPlacePerc  \n",
       "3679420           0.0  "
      ]
     },
     "execution_count": 27,
     "metadata": {},
     "output_type": "execute_result"
    }
   ],
   "source": [
    "# Searching for how many players ended up in 101st place.\n",
    "new_raw_data.loc[new_raw_data['killPlace'] == 101]"
   ]
  },
  {
   "cell_type": "markdown",
   "metadata": {},
   "source": [
    "#### Kevin and I decided that since it makes no sense to have someone finish in 101st place (since there is only 100 player per game) and the fact that this person had no activity within their game (all they did was walk 8 meters and grab a gun) we are going to remove this instance from our dataset."
   ]
  },
  {
   "cell_type": "markdown",
   "metadata": {},
   "source": [
    "### Making a quick checkpoint to ensure safety of preprocessing"
   ]
  },
  {
   "cell_type": "code",
   "execution_count": 28,
   "metadata": {},
   "outputs": [],
   "source": [
    "no_outliers_date = new_raw_data.copy()"
   ]
  },
  {
   "cell_type": "code",
   "execution_count": 29,
   "metadata": {},
   "outputs": [],
   "source": [
    "no_outliers_date = no_outliers_date.drop(index=3679420, axis=0)"
   ]
  },
  {
   "cell_type": "code",
   "execution_count": 30,
   "metadata": {},
   "outputs": [
    {
     "data": {
      "text/html": [
       "<div>\n",
       "<style scoped>\n",
       "    .dataframe tbody tr th:only-of-type {\n",
       "        vertical-align: middle;\n",
       "    }\n",
       "\n",
       "    .dataframe tbody tr th {\n",
       "        vertical-align: top;\n",
       "    }\n",
       "\n",
       "    .dataframe thead th {\n",
       "        text-align: right;\n",
       "    }\n",
       "</style>\n",
       "<table border=\"1\" class=\"dataframe\">\n",
       "  <thead>\n",
       "    <tr style=\"text-align: right;\">\n",
       "      <th></th>\n",
       "      <th>Id</th>\n",
       "      <th>assists</th>\n",
       "      <th>boosts</th>\n",
       "      <th>damageDealt</th>\n",
       "      <th>DBNOs</th>\n",
       "      <th>headshotKills</th>\n",
       "      <th>heals</th>\n",
       "      <th>killPlace</th>\n",
       "      <th>killPoints</th>\n",
       "      <th>kills</th>\n",
       "      <th>killStreaks</th>\n",
       "      <th>longestKill</th>\n",
       "      <th>matchDuration</th>\n",
       "      <th>matchType</th>\n",
       "      <th>maxPlace</th>\n",
       "      <th>numGroups</th>\n",
       "      <th>rankPoints</th>\n",
       "      <th>revives</th>\n",
       "      <th>rideDistance</th>\n",
       "      <th>roadKills</th>\n",
       "      <th>swimDistance</th>\n",
       "      <th>teamKills</th>\n",
       "      <th>vehicleDestroys</th>\n",
       "      <th>walkDistance</th>\n",
       "      <th>weaponsAcquired</th>\n",
       "      <th>winPoints</th>\n",
       "      <th>winPlacePerc</th>\n",
       "    </tr>\n",
       "  </thead>\n",
       "  <tbody>\n",
       "  </tbody>\n",
       "</table>\n",
       "</div>"
      ],
      "text/plain": [
       "Empty DataFrame\n",
       "Columns: [Id, assists, boosts, damageDealt, DBNOs, headshotKills, heals, killPlace, killPoints, kills, killStreaks, longestKill, matchDuration, matchType, maxPlace, numGroups, rankPoints, revives, rideDistance, roadKills, swimDistance, teamKills, vehicleDestroys, walkDistance, weaponsAcquired, winPoints, winPlacePerc]\n",
       "Index: []"
      ]
     },
     "execution_count": 30,
     "metadata": {},
     "output_type": "execute_result"
    }
   ],
   "source": [
    "no_outliers_date.loc[no_outliers_date['killPlace'] == 101]"
   ]
  },
  {
   "cell_type": "code",
   "execution_count": 31,
   "metadata": {},
   "outputs": [],
   "source": [
    "# no_outliers_date.head()"
   ]
  },
  {
   "cell_type": "code",
   "execution_count": 32,
   "metadata": {},
   "outputs": [
    {
     "data": {
      "text/html": [
       "<div>\n",
       "<style scoped>\n",
       "    .dataframe tbody tr th:only-of-type {\n",
       "        vertical-align: middle;\n",
       "    }\n",
       "\n",
       "    .dataframe tbody tr th {\n",
       "        vertical-align: top;\n",
       "    }\n",
       "\n",
       "    .dataframe thead th {\n",
       "        text-align: right;\n",
       "    }\n",
       "</style>\n",
       "<table border=\"1\" class=\"dataframe\">\n",
       "  <thead>\n",
       "    <tr style=\"text-align: right;\">\n",
       "      <th></th>\n",
       "      <th>Id</th>\n",
       "      <th>assists</th>\n",
       "      <th>boosts</th>\n",
       "      <th>damageDealt</th>\n",
       "      <th>DBNOs</th>\n",
       "      <th>headshotKills</th>\n",
       "      <th>heals</th>\n",
       "      <th>killPlace</th>\n",
       "      <th>killPoints</th>\n",
       "      <th>kills</th>\n",
       "      <th>killStreaks</th>\n",
       "      <th>longestKill</th>\n",
       "      <th>matchDuration</th>\n",
       "      <th>matchType</th>\n",
       "      <th>maxPlace</th>\n",
       "      <th>numGroups</th>\n",
       "      <th>rankPoints</th>\n",
       "      <th>revives</th>\n",
       "      <th>rideDistance</th>\n",
       "      <th>roadKills</th>\n",
       "      <th>swimDistance</th>\n",
       "      <th>teamKills</th>\n",
       "      <th>vehicleDestroys</th>\n",
       "      <th>walkDistance</th>\n",
       "      <th>weaponsAcquired</th>\n",
       "      <th>winPoints</th>\n",
       "      <th>winPlacePerc</th>\n",
       "    </tr>\n",
       "  </thead>\n",
       "  <tbody>\n",
       "    <tr>\n",
       "      <th>0</th>\n",
       "      <td>7f96b2f878858a</td>\n",
       "      <td>-0.397257</td>\n",
       "      <td>-0.645129</td>\n",
       "      <td>-0.765410</td>\n",
       "      <td>-0.574191</td>\n",
       "      <td>-0.37668</td>\n",
       "      <td>-0.511252</td>\n",
       "      <td>6</td>\n",
       "      <td>1241</td>\n",
       "      <td>0</td>\n",
       "      <td>0</td>\n",
       "      <td>0.00</td>\n",
       "      <td>1306</td>\n",
       "      <td>squad-fpp</td>\n",
       "      <td>28</td>\n",
       "      <td>26</td>\n",
       "      <td>-1</td>\n",
       "      <td>0</td>\n",
       "      <td>0.0000</td>\n",
       "      <td>0</td>\n",
       "      <td>0.00</td>\n",
       "      <td>0</td>\n",
       "      <td>0</td>\n",
       "      <td>244.80</td>\n",
       "      <td>1</td>\n",
       "      <td>1466</td>\n",
       "      <td>0.4444</td>\n",
       "    </tr>\n",
       "    <tr>\n",
       "      <th>1</th>\n",
       "      <td>eef90569b9d03c</td>\n",
       "      <td>-0.397257</td>\n",
       "      <td>-0.645129</td>\n",
       "      <td>-0.229810</td>\n",
       "      <td>-0.574191</td>\n",
       "      <td>-0.37668</td>\n",
       "      <td>-0.511252</td>\n",
       "      <td>6</td>\n",
       "      <td>0</td>\n",
       "      <td>0</td>\n",
       "      <td>0</td>\n",
       "      <td>0.00</td>\n",
       "      <td>1777</td>\n",
       "      <td>squad-fpp</td>\n",
       "      <td>26</td>\n",
       "      <td>25</td>\n",
       "      <td>1484</td>\n",
       "      <td>0</td>\n",
       "      <td>0.0045</td>\n",
       "      <td>0</td>\n",
       "      <td>11.04</td>\n",
       "      <td>0</td>\n",
       "      <td>0</td>\n",
       "      <td>1434.00</td>\n",
       "      <td>5</td>\n",
       "      <td>0</td>\n",
       "      <td>0.6400</td>\n",
       "    </tr>\n",
       "    <tr>\n",
       "      <th>2</th>\n",
       "      <td>1eaf90ac73de72</td>\n",
       "      <td>1.301767</td>\n",
       "      <td>-0.645129</td>\n",
       "      <td>-0.367238</td>\n",
       "      <td>-0.574191</td>\n",
       "      <td>-0.37668</td>\n",
       "      <td>-0.511252</td>\n",
       "      <td>5</td>\n",
       "      <td>0</td>\n",
       "      <td>0</td>\n",
       "      <td>0</td>\n",
       "      <td>0.00</td>\n",
       "      <td>1318</td>\n",
       "      <td>duo</td>\n",
       "      <td>50</td>\n",
       "      <td>47</td>\n",
       "      <td>1491</td>\n",
       "      <td>0</td>\n",
       "      <td>0.0000</td>\n",
       "      <td>0</td>\n",
       "      <td>0.00</td>\n",
       "      <td>0</td>\n",
       "      <td>0</td>\n",
       "      <td>161.80</td>\n",
       "      <td>2</td>\n",
       "      <td>0</td>\n",
       "      <td>0.7755</td>\n",
       "    </tr>\n",
       "    <tr>\n",
       "      <th>3</th>\n",
       "      <td>4616d365dd2853</td>\n",
       "      <td>-0.397257</td>\n",
       "      <td>-0.645129</td>\n",
       "      <td>-0.572765</td>\n",
       "      <td>-0.574191</td>\n",
       "      <td>-0.37668</td>\n",
       "      <td>-0.511252</td>\n",
       "      <td>8</td>\n",
       "      <td>0</td>\n",
       "      <td>0</td>\n",
       "      <td>0</td>\n",
       "      <td>0.00</td>\n",
       "      <td>1436</td>\n",
       "      <td>squad-fpp</td>\n",
       "      <td>31</td>\n",
       "      <td>30</td>\n",
       "      <td>1408</td>\n",
       "      <td>0</td>\n",
       "      <td>0.0000</td>\n",
       "      <td>0</td>\n",
       "      <td>0.00</td>\n",
       "      <td>0</td>\n",
       "      <td>0</td>\n",
       "      <td>202.70</td>\n",
       "      <td>3</td>\n",
       "      <td>0</td>\n",
       "      <td>0.1667</td>\n",
       "    </tr>\n",
       "    <tr>\n",
       "      <th>4</th>\n",
       "      <td>315c96c26c9aac</td>\n",
       "      <td>-0.397257</td>\n",
       "      <td>-0.645129</td>\n",
       "      <td>-0.179863</td>\n",
       "      <td>-0.574191</td>\n",
       "      <td>-0.37668</td>\n",
       "      <td>-0.511252</td>\n",
       "      <td>5</td>\n",
       "      <td>0</td>\n",
       "      <td>1</td>\n",
       "      <td>1</td>\n",
       "      <td>58.53</td>\n",
       "      <td>1424</td>\n",
       "      <td>solo-fpp</td>\n",
       "      <td>97</td>\n",
       "      <td>95</td>\n",
       "      <td>1560</td>\n",
       "      <td>0</td>\n",
       "      <td>0.0000</td>\n",
       "      <td>0</td>\n",
       "      <td>0.00</td>\n",
       "      <td>0</td>\n",
       "      <td>0</td>\n",
       "      <td>49.75</td>\n",
       "      <td>2</td>\n",
       "      <td>0</td>\n",
       "      <td>0.1875</td>\n",
       "    </tr>\n",
       "  </tbody>\n",
       "</table>\n",
       "</div>"
      ],
      "text/plain": [
       "               Id   assists    boosts  damageDealt     DBNOs  headshotKills  \\\n",
       "0  7f96b2f878858a -0.397257 -0.645129    -0.765410 -0.574191       -0.37668   \n",
       "1  eef90569b9d03c -0.397257 -0.645129    -0.229810 -0.574191       -0.37668   \n",
       "2  1eaf90ac73de72  1.301767 -0.645129    -0.367238 -0.574191       -0.37668   \n",
       "3  4616d365dd2853 -0.397257 -0.645129    -0.572765 -0.574191       -0.37668   \n",
       "4  315c96c26c9aac -0.397257 -0.645129    -0.179863 -0.574191       -0.37668   \n",
       "\n",
       "      heals  killPlace  killPoints  kills  killStreaks  longestKill  \\\n",
       "0 -0.511252          6        1241      0            0         0.00   \n",
       "1 -0.511252          6           0      0            0         0.00   \n",
       "2 -0.511252          5           0      0            0         0.00   \n",
       "3 -0.511252          8           0      0            0         0.00   \n",
       "4 -0.511252          5           0      1            1        58.53   \n",
       "\n",
       "   matchDuration  matchType  maxPlace  numGroups  rankPoints  revives  \\\n",
       "0           1306  squad-fpp        28         26          -1        0   \n",
       "1           1777  squad-fpp        26         25        1484        0   \n",
       "2           1318        duo        50         47        1491        0   \n",
       "3           1436  squad-fpp        31         30        1408        0   \n",
       "4           1424   solo-fpp        97         95        1560        0   \n",
       "\n",
       "   rideDistance  roadKills  swimDistance  teamKills  vehicleDestroys  \\\n",
       "0        0.0000          0          0.00          0                0   \n",
       "1        0.0045          0         11.04          0                0   \n",
       "2        0.0000          0          0.00          0                0   \n",
       "3        0.0000          0          0.00          0                0   \n",
       "4        0.0000          0          0.00          0                0   \n",
       "\n",
       "   walkDistance  weaponsAcquired  winPoints  winPlacePerc  \n",
       "0        244.80                1       1466        0.4444  \n",
       "1       1434.00                5          0        0.6400  \n",
       "2        161.80                2          0        0.7755  \n",
       "3        202.70                3          0        0.1667  \n",
       "4         49.75                2          0        0.1875  "
      ]
     },
     "execution_count": 32,
     "metadata": {},
     "output_type": "execute_result"
    }
   ],
   "source": [
    "# We are going to group the categories in groups of 10, i.e 1 -> [1, 10], 2 -> [11, 20] etc.\n",
    "import math\n",
    "def map_to(value):\n",
    "    return math.ceil(value / 10)\n",
    "\n",
    "no_outliers_date['killPlace'] = no_outliers_date['killPlace'].apply(map_to)\n",
    "no_outliers_date.head()"
   ]
  },
  {
   "cell_type": "code",
   "execution_count": 33,
   "metadata": {},
   "outputs": [],
   "source": [
    "killPlace_one_hot_encoded = pd.get_dummies(no_outliers_date['killPlace'])\n",
    "# killPlace_one_hot_encoded"
   ]
  },
  {
   "cell_type": "code",
   "execution_count": 34,
   "metadata": {},
   "outputs": [],
   "source": [
    "killPlace_new_columns = [\"killPlace_Group1\", \"killPlace_Group2\", \"killPlace_Group3\", \"killPlace_Group4\", \"killPlace_Group5\", \"killPlace_Group6\", \"killPlace_Group7\", \"killPlace_Group8\", \"killPlace_Group9\", \"killPlace_Group10\"]\n",
    "killPlace_one_hot_encoded.columns = killPlace_new_columns\n",
    "# killPlace_one_hot_encoded"
   ]
  },
  {
   "cell_type": "code",
   "execution_count": 35,
   "metadata": {},
   "outputs": [],
   "source": [
    "no_outliers_date = no_outliers_date.drop([\"killPlace\"], axis=1)"
   ]
  },
  {
   "cell_type": "code",
   "execution_count": 36,
   "metadata": {},
   "outputs": [],
   "source": [
    "no_outliers_date = pd.concat([no_outliers_date, killPlace_one_hot_encoded], axis = 1)"
   ]
  },
  {
   "cell_type": "code",
   "execution_count": 37,
   "metadata": {},
   "outputs": [
    {
     "data": {
      "text/plain": [
       "Index(['Id', 'assists', 'boosts', 'damageDealt', 'DBNOs', 'headshotKills',\n",
       "       'heals', 'killPoints', 'kills', 'killStreaks', 'longestKill',\n",
       "       'matchDuration', 'matchType', 'maxPlace', 'numGroups', 'rankPoints',\n",
       "       'revives', 'rideDistance', 'roadKills', 'swimDistance', 'teamKills',\n",
       "       'vehicleDestroys', 'walkDistance', 'weaponsAcquired', 'winPoints',\n",
       "       'winPlacePerc', 'killPlace_Group1', 'killPlace_Group2',\n",
       "       'killPlace_Group3', 'killPlace_Group4', 'killPlace_Group5',\n",
       "       'killPlace_Group6', 'killPlace_Group7', 'killPlace_Group8',\n",
       "       'killPlace_Group9', 'killPlace_Group10'],\n",
       "      dtype='object')"
      ]
     },
     "execution_count": 37,
     "metadata": {},
     "output_type": "execute_result"
    }
   ],
   "source": [
    "no_outliers_date.columns"
   ]
  },
  {
   "cell_type": "code",
   "execution_count": 38,
   "metadata": {},
   "outputs": [],
   "source": [
    "new_no_outliers_date_columns = ['Id', 'assists', 'boosts', 'damageDealt', 'DBNOs', 'headshotKills',\n",
    "       'heals', 'killPlace_Group1', 'killPlace_Group2',\n",
    "       'killPlace_Group3', 'killPlace_Group4', 'killPlace_Group5',\n",
    "       'killPlace_Group6', 'killPlace_Group7', 'killPlace_Group8',\n",
    "       'killPlace_Group9', 'killPlace_Group10', 'killPoints', 'kills', 'killStreaks', 'longestKill',\n",
    "       'matchDuration', 'matchType', 'maxPlace', 'numGroups', 'rankPoints',\n",
    "       'revives', 'rideDistance', 'roadKills', 'swimDistance', 'teamKills',\n",
    "       'vehicleDestroys', 'walkDistance', 'weaponsAcquired', 'winPoints',\n",
    "       'winPlacePerc']"
   ]
  },
  {
   "cell_type": "code",
   "execution_count": 39,
   "metadata": {},
   "outputs": [],
   "source": [
    "no_outliers_date = no_outliers_date[new_no_outliers_date_columns]\n",
    "# no_outliers_date.head()"
   ]
  },
  {
   "cell_type": "markdown",
   "metadata": {},
   "source": [
    "## Making New Checkpoint:"
   ]
  },
  {
   "cell_type": "code",
   "execution_count": 40,
   "metadata": {},
   "outputs": [],
   "source": [
    "df_checkpoint_3 = no_outliers_date.copy()"
   ]
  },
  {
   "cell_type": "markdown",
   "metadata": {},
   "source": [
    "## Preprocessing 'killPoints' column"
   ]
  },
  {
   "cell_type": "code",
   "execution_count": 41,
   "metadata": {},
   "outputs": [
    {
     "data": {
      "text/plain": [
       "(array([1241,    0, 1262, ..., 2043, 2120,  392], dtype=int64), 0)"
      ]
     },
     "execution_count": 41,
     "metadata": {},
     "output_type": "execute_result"
    }
   ],
   "source": [
    "df_checkpoint_3['killPoints'].unique(), df_checkpoint_3['killPoints'].isna().sum()"
   ]
  },
  {
   "cell_type": "code",
   "execution_count": 42,
   "metadata": {},
   "outputs": [
    {
     "data": {
      "text/plain": [
       "(1707,)"
      ]
     },
     "execution_count": 42,
     "metadata": {},
     "output_type": "execute_result"
    }
   ],
   "source": [
    "df_checkpoint_3['killPoints'].unique().shape"
   ]
  },
  {
   "cell_type": "code",
   "execution_count": 43,
   "metadata": {},
   "outputs": [
    {
     "data": {
      "text/html": [
       "<div>\n",
       "<style scoped>\n",
       "    .dataframe tbody tr th:only-of-type {\n",
       "        vertical-align: middle;\n",
       "    }\n",
       "\n",
       "    .dataframe tbody tr th {\n",
       "        vertical-align: top;\n",
       "    }\n",
       "\n",
       "    .dataframe thead th {\n",
       "        text-align: right;\n",
       "    }\n",
       "</style>\n",
       "<table border=\"1\" class=\"dataframe\">\n",
       "  <thead>\n",
       "    <tr style=\"text-align: right;\">\n",
       "      <th></th>\n",
       "      <th>Id</th>\n",
       "      <th>assists</th>\n",
       "      <th>boosts</th>\n",
       "      <th>damageDealt</th>\n",
       "      <th>DBNOs</th>\n",
       "      <th>headshotKills</th>\n",
       "      <th>heals</th>\n",
       "      <th>killPlace_Group1</th>\n",
       "      <th>killPlace_Group2</th>\n",
       "      <th>killPlace_Group3</th>\n",
       "      <th>killPlace_Group4</th>\n",
       "      <th>killPlace_Group5</th>\n",
       "      <th>killPlace_Group6</th>\n",
       "      <th>killPlace_Group7</th>\n",
       "      <th>killPlace_Group8</th>\n",
       "      <th>killPlace_Group9</th>\n",
       "      <th>killPlace_Group10</th>\n",
       "      <th>killPoints</th>\n",
       "      <th>kills</th>\n",
       "      <th>killStreaks</th>\n",
       "      <th>longestKill</th>\n",
       "      <th>matchDuration</th>\n",
       "      <th>matchType</th>\n",
       "      <th>maxPlace</th>\n",
       "      <th>numGroups</th>\n",
       "      <th>rankPoints</th>\n",
       "      <th>revives</th>\n",
       "      <th>rideDistance</th>\n",
       "      <th>roadKills</th>\n",
       "      <th>swimDistance</th>\n",
       "      <th>teamKills</th>\n",
       "      <th>vehicleDestroys</th>\n",
       "      <th>walkDistance</th>\n",
       "      <th>weaponsAcquired</th>\n",
       "      <th>winPoints</th>\n",
       "      <th>winPlacePerc</th>\n",
       "    </tr>\n",
       "  </thead>\n",
       "  <tbody>\n",
       "  </tbody>\n",
       "</table>\n",
       "</div>"
      ],
      "text/plain": [
       "Empty DataFrame\n",
       "Columns: [Id, assists, boosts, damageDealt, DBNOs, headshotKills, heals, killPlace_Group1, killPlace_Group2, killPlace_Group3, killPlace_Group4, killPlace_Group5, killPlace_Group6, killPlace_Group7, killPlace_Group8, killPlace_Group9, killPlace_Group10, killPoints, kills, killStreaks, longestKill, matchDuration, matchType, maxPlace, numGroups, rankPoints, revives, rideDistance, roadKills, swimDistance, teamKills, vehicleDestroys, walkDistance, weaponsAcquired, winPoints, winPlacePerc]\n",
       "Index: []"
      ]
     },
     "execution_count": 43,
     "metadata": {},
     "output_type": "execute_result"
    }
   ],
   "source": [
    "df_checkpoint_3.loc[df_checkpoint_3['killPoints'] < 0]"
   ]
  },
  {
   "cell_type": "code",
   "execution_count": 44,
   "metadata": {},
   "outputs": [
    {
     "name": "stderr",
     "output_type": "stream",
     "text": [
      "C:\\Users\\retic\\Anaconda3\\lib\\site-packages\\sklearn\\utils\\validation.py:595: DataConversionWarning: Data with input dtype int64 was converted to float64 by the scale function.\n",
      "  warnings.warn(msg, DataConversionWarning)\n"
     ]
    }
   ],
   "source": [
    "# We are going to standardize the 'killPoints' column since it is a ratio data type.\n",
    "df_checkpoint_3['killPoints'] = preprocessing.scale(df_checkpoint_3['killPoints'])\n",
    "# df_checkpoint_3.head()"
   ]
  },
  {
   "cell_type": "markdown",
   "metadata": {},
   "source": [
    "## Preprocessing 'kills' column"
   ]
  },
  {
   "cell_type": "code",
   "execution_count": 45,
   "metadata": {},
   "outputs": [
    {
     "data": {
      "text/plain": [
       "(array([ 0,  1,  4,  2,  9,  3,  5,  6,  8,  7, 14, 13, 15, 12, 21, 11, 10,\n",
       "        17, 20, 24, 18, 16, 22, 19, 23, 35, 31, 27, 25, 48, 42, 30, 26, 65,\n",
       "        39, 33, 28, 29, 34, 57, 55, 56, 36, 38, 37, 44, 66, 41, 50, 53, 43,\n",
       "        32, 40, 47, 45, 46, 49, 72], dtype=int64), 0)"
      ]
     },
     "execution_count": 45,
     "metadata": {},
     "output_type": "execute_result"
    }
   ],
   "source": [
    "df_checkpoint_3['kills'].unique(), df_checkpoint_3['kills'].isna().sum()"
   ]
  },
  {
   "cell_type": "code",
   "execution_count": 46,
   "metadata": {},
   "outputs": [
    {
     "name": "stderr",
     "output_type": "stream",
     "text": [
      "C:\\Users\\retic\\Anaconda3\\lib\\site-packages\\sklearn\\utils\\validation.py:595: DataConversionWarning: Data with input dtype int64 was converted to float64 by the scale function.\n",
      "  warnings.warn(msg, DataConversionWarning)\n"
     ]
    }
   ],
   "source": [
    "# We are going to standardize the 'kills' column since it is a ratio data type.\n",
    "df_checkpoint_3['kills'] = preprocessing.scale(df_checkpoint_3['kills'])\n",
    "# df_checkpoint_3.head()"
   ]
  },
  {
   "cell_type": "markdown",
   "metadata": {},
   "source": [
    "## Preprocessing 'killStreaks' column"
   ]
  },
  {
   "cell_type": "code",
   "execution_count": 47,
   "metadata": {},
   "outputs": [
    {
     "data": {
      "text/plain": [
       "(array([ 0,  1,  2,  4,  3,  5,  6,  7, 10, 14,  8,  9, 11, 12, 13, 16, 18,\n",
       "        20], dtype=int64), 0)"
      ]
     },
     "execution_count": 47,
     "metadata": {},
     "output_type": "execute_result"
    }
   ],
   "source": [
    "df_checkpoint_3['killStreaks'].unique(), df_checkpoint_3['killStreaks'].isna().sum()"
   ]
  },
  {
   "cell_type": "code",
   "execution_count": 48,
   "metadata": {},
   "outputs": [
    {
     "name": "stderr",
     "output_type": "stream",
     "text": [
      "C:\\Users\\retic\\Anaconda3\\lib\\site-packages\\sklearn\\utils\\validation.py:595: DataConversionWarning: Data with input dtype int64 was converted to float64 by the scale function.\n",
      "  warnings.warn(msg, DataConversionWarning)\n"
     ]
    }
   ],
   "source": [
    "# We are going to standardize the 'killStreaks' column since it is a ratio data type.\n",
    "df_checkpoint_3['killStreaks'] = preprocessing.scale(df_checkpoint_3['killStreaks'])\n",
    "# df_checkpoint_3.head()"
   ]
  },
  {
   "cell_type": "markdown",
   "metadata": {},
   "source": [
    "## Preprocessing 'longestKill' column"
   ]
  },
  {
   "cell_type": "code",
   "execution_count": 49,
   "metadata": {},
   "outputs": [
    {
     "data": {
      "text/plain": [
       "(array([ 0.    , 58.53  , 18.44  , ...,  0.5843,  0.6309,  0.7761]), 0)"
      ]
     },
     "execution_count": 49,
     "metadata": {},
     "output_type": "execute_result"
    }
   ],
   "source": [
    "df_checkpoint_3['longestKill'].unique(), df_checkpoint_3['longestKill'].isna().sum()"
   ]
  },
  {
   "cell_type": "code",
   "execution_count": 50,
   "metadata": {},
   "outputs": [
    {
     "data": {
      "text/plain": [
       "(28284,)"
      ]
     },
     "execution_count": 50,
     "metadata": {},
     "output_type": "execute_result"
    }
   ],
   "source": [
    "df_checkpoint_3['longestKill'].unique().shape"
   ]
  },
  {
   "cell_type": "code",
   "execution_count": 51,
   "metadata": {},
   "outputs": [
    {
     "data": {
      "text/html": [
       "<div>\n",
       "<style scoped>\n",
       "    .dataframe tbody tr th:only-of-type {\n",
       "        vertical-align: middle;\n",
       "    }\n",
       "\n",
       "    .dataframe tbody tr th {\n",
       "        vertical-align: top;\n",
       "    }\n",
       "\n",
       "    .dataframe thead th {\n",
       "        text-align: right;\n",
       "    }\n",
       "</style>\n",
       "<table border=\"1\" class=\"dataframe\">\n",
       "  <thead>\n",
       "    <tr style=\"text-align: right;\">\n",
       "      <th></th>\n",
       "      <th>Id</th>\n",
       "      <th>assists</th>\n",
       "      <th>boosts</th>\n",
       "      <th>damageDealt</th>\n",
       "      <th>DBNOs</th>\n",
       "      <th>headshotKills</th>\n",
       "      <th>heals</th>\n",
       "      <th>killPlace_Group1</th>\n",
       "      <th>killPlace_Group2</th>\n",
       "      <th>killPlace_Group3</th>\n",
       "      <th>killPlace_Group4</th>\n",
       "      <th>killPlace_Group5</th>\n",
       "      <th>killPlace_Group6</th>\n",
       "      <th>killPlace_Group7</th>\n",
       "      <th>killPlace_Group8</th>\n",
       "      <th>killPlace_Group9</th>\n",
       "      <th>killPlace_Group10</th>\n",
       "      <th>killPoints</th>\n",
       "      <th>kills</th>\n",
       "      <th>killStreaks</th>\n",
       "      <th>longestKill</th>\n",
       "      <th>matchDuration</th>\n",
       "      <th>matchType</th>\n",
       "      <th>maxPlace</th>\n",
       "      <th>numGroups</th>\n",
       "      <th>rankPoints</th>\n",
       "      <th>revives</th>\n",
       "      <th>rideDistance</th>\n",
       "      <th>roadKills</th>\n",
       "      <th>swimDistance</th>\n",
       "      <th>teamKills</th>\n",
       "      <th>vehicleDestroys</th>\n",
       "      <th>walkDistance</th>\n",
       "      <th>weaponsAcquired</th>\n",
       "      <th>winPoints</th>\n",
       "      <th>winPlacePerc</th>\n",
       "    </tr>\n",
       "  </thead>\n",
       "  <tbody>\n",
       "  </tbody>\n",
       "</table>\n",
       "</div>"
      ],
      "text/plain": [
       "Empty DataFrame\n",
       "Columns: [Id, assists, boosts, damageDealt, DBNOs, headshotKills, heals, killPlace_Group1, killPlace_Group2, killPlace_Group3, killPlace_Group4, killPlace_Group5, killPlace_Group6, killPlace_Group7, killPlace_Group8, killPlace_Group9, killPlace_Group10, killPoints, kills, killStreaks, longestKill, matchDuration, matchType, maxPlace, numGroups, rankPoints, revives, rideDistance, roadKills, swimDistance, teamKills, vehicleDestroys, walkDistance, weaponsAcquired, winPoints, winPlacePerc]\n",
       "Index: []"
      ]
     },
     "execution_count": 51,
     "metadata": {},
     "output_type": "execute_result"
    }
   ],
   "source": [
    "df_checkpoint_3.loc[df_checkpoint_3['longestKill'] < 0]"
   ]
  },
  {
   "cell_type": "code",
   "execution_count": 52,
   "metadata": {},
   "outputs": [],
   "source": [
    "# We are going to standardize the 'longestKill' column since it is a ratio data type.\n",
    "df_checkpoint_3['longestKill'] = preprocessing.scale(df_checkpoint_3['longestKill'])\n",
    "# df_checkpoint_3.head()"
   ]
  },
  {
   "cell_type": "markdown",
   "metadata": {},
   "source": [
    "## Preprocessing 'matchDuration' column"
   ]
  },
  {
   "cell_type": "code",
   "execution_count": 53,
   "metadata": {},
   "outputs": [
    {
     "data": {
      "text/plain": [
       "(array([1306, 1777, 1318, ...,  657,  990,    9], dtype=int64), 0)"
      ]
     },
     "execution_count": 53,
     "metadata": {},
     "output_type": "execute_result"
    }
   ],
   "source": [
    "df_checkpoint_3['matchDuration'].unique(), df_checkpoint_3['matchDuration'].isna().sum()"
   ]
  },
  {
   "cell_type": "code",
   "execution_count": 54,
   "metadata": {},
   "outputs": [
    {
     "data": {
      "text/plain": [
       "(1267,)"
      ]
     },
     "execution_count": 54,
     "metadata": {},
     "output_type": "execute_result"
    }
   ],
   "source": [
    "df_checkpoint_3['matchDuration'].unique().shape"
   ]
  },
  {
   "cell_type": "code",
   "execution_count": 55,
   "metadata": {
    "scrolled": true
   },
   "outputs": [
    {
     "name": "stderr",
     "output_type": "stream",
     "text": [
      "C:\\Users\\retic\\Anaconda3\\lib\\site-packages\\sklearn\\utils\\validation.py:595: DataConversionWarning: Data with input dtype int64 was converted to float64 by the scale function.\n",
      "  warnings.warn(msg, DataConversionWarning)\n"
     ]
    }
   ],
   "source": [
    "# We are going to standardize the 'matchDuration' column since it is a ratio data type.\n",
    "df_checkpoint_3['matchDuration'] = preprocessing.scale(df_checkpoint_3['matchDuration'])\n",
    "# df_checkpoint_3.head()"
   ]
  },
  {
   "cell_type": "markdown",
   "metadata": {},
   "source": [
    "## Preprocessing 'matchType' column"
   ]
  },
  {
   "cell_type": "code",
   "execution_count": 56,
   "metadata": {},
   "outputs": [
    {
     "data": {
      "text/plain": [
       "(array(['squad-fpp', 'duo', 'solo-fpp', 'squad', 'duo-fpp', 'solo',\n",
       "        'normal-squad-fpp', 'crashfpp', 'flaretpp', 'normal-solo-fpp',\n",
       "        'flarefpp', 'normal-duo-fpp', 'normal-duo', 'normal-squad',\n",
       "        'crashtpp', 'normal-solo'], dtype=object), 0)"
      ]
     },
     "execution_count": 56,
     "metadata": {},
     "output_type": "execute_result"
    }
   ],
   "source": [
    "df_checkpoint_3['matchType'].unique(), df_checkpoint_3['matchType'].isna().sum()"
   ]
  },
  {
   "cell_type": "code",
   "execution_count": 57,
   "metadata": {},
   "outputs": [
    {
     "data": {
      "text/plain": [
       "(16,)"
      ]
     },
     "execution_count": 57,
     "metadata": {},
     "output_type": "execute_result"
    }
   ],
   "source": [
    "df_checkpoint_3['matchType'].unique().shape"
   ]
  },
  {
   "cell_type": "code",
   "execution_count": 58,
   "metadata": {},
   "outputs": [
    {
     "data": {
      "text/plain": [
       "array(['squad-fpp', 'duo', 'solo-fpp', 'squad', 'duo-fpp', 'solo',\n",
       "       'normal-squad-fpp', 'crashfpp', 'flaretpp', 'normal-solo-fpp',\n",
       "       'flarefpp', 'normal-duo-fpp', 'normal-duo', 'normal-squad',\n",
       "       'crashtpp', 'normal-solo'], dtype=object)"
      ]
     },
     "execution_count": 58,
     "metadata": {},
     "output_type": "execute_result"
    }
   ],
   "source": [
    "match_type = df_checkpoint_3['matchType'].unique()\n",
    "match_type"
   ]
  },
  {
   "cell_type": "code",
   "execution_count": 59,
   "metadata": {},
   "outputs": [
    {
     "data": {
      "text/plain": [
       "[(1756186, 'squad-fpp'),\n",
       " (313591, 'duo'),\n",
       " (536762, 'solo-fpp'),\n",
       " (626526, 'squad'),\n",
       " (996691, 'duo-fpp'),\n",
       " (181943, 'solo'),\n",
       " (17174, 'normal-squad-fpp'),\n",
       " (6287, 'crashfpp'),\n",
       " (2505, 'flaretpp'),\n",
       " (1682, 'normal-solo-fpp'),\n",
       " (718, 'flarefpp'),\n",
       " (5489, 'normal-duo-fpp'),\n",
       " (199, 'normal-duo'),\n",
       " (515, 'normal-squad'),\n",
       " (371, 'crashtpp'),\n",
       " (326, 'normal-solo')]"
      ]
     },
     "execution_count": 59,
     "metadata": {},
     "output_type": "execute_result"
    }
   ],
   "source": [
    "num_of_occurences = []\n",
    "for i in match_type:\n",
    "    num_of_occurences.append((df_checkpoint_3.loc[df_checkpoint_3['matchType'] == i].shape[0], i))\n",
    "num_of_occurences"
   ]
  },
  {
   "cell_type": "code",
   "execution_count": 60,
   "metadata": {},
   "outputs": [],
   "source": [
    "one_hot_encoded_match_types = pd.get_dummies(df_checkpoint_3['matchType'])\n",
    "# one_hot_encoded_match_types"
   ]
  },
  {
   "cell_type": "code",
   "execution_count": 61,
   "metadata": {},
   "outputs": [],
   "source": [
    "df_checkpoint_3 = df_checkpoint_3.drop(['matchType'], axis=1)\n",
    "# df_checkpoint_3.head()"
   ]
  },
  {
   "cell_type": "markdown",
   "metadata": {},
   "source": [
    "## Checkpoint 4"
   ]
  },
  {
   "cell_type": "code",
   "execution_count": 62,
   "metadata": {},
   "outputs": [],
   "source": [
    "df_checkpoint_4 = df_checkpoint_3.copy()"
   ]
  },
  {
   "cell_type": "code",
   "execution_count": 63,
   "metadata": {},
   "outputs": [],
   "source": [
    "df_checkpoint_4 = pd.concat([df_checkpoint_4, one_hot_encoded_match_types], axis=1)\n",
    "# df_checkpoint_4.head()"
   ]
  },
  {
   "cell_type": "markdown",
   "metadata": {},
   "source": [
    "## Preprocessing 'maxPlace' column"
   ]
  },
  {
   "cell_type": "code",
   "execution_count": 64,
   "metadata": {},
   "outputs": [
    {
     "data": {
      "text/plain": [
       "(array([ 28,  26,  50,  31,  97,  96,  29,  48,  27,  30,  49,  47,  46,\n",
       "         92,  95,  45,  99,  25,  90,  94,  21,  93,  32,  41,  98,  34,\n",
       "         91,  44, 100,  42,  24,  16,  89,  33,  43,  40,  78,  51,  86,\n",
       "         19,  85,  22,  12,  35,  88,  20,  23,  36,   8,  18,  70,  13,\n",
       "         17,  15,  83,  39,  60,  73,  84,  79,   7,  87,  54,  10,  37,\n",
       "         74,  80,  14,  38,   6,  81,   5,  82,  52,  11,  63,  67,  76,\n",
       "         59,  57,  61,  69,   3,  64,   4,  55,  66,  75,  68,   2,  65,\n",
       "          9,  77,  62,  56,  72,  71,  58,  53,   1], dtype=int64), 0)"
      ]
     },
     "execution_count": 64,
     "metadata": {},
     "output_type": "execute_result"
    }
   ],
   "source": [
    "df_checkpoint_4['maxPlace'].unique(), df_checkpoint_4['maxPlace'].isna().sum()"
   ]
  },
  {
   "cell_type": "code",
   "execution_count": 65,
   "metadata": {},
   "outputs": [],
   "source": [
    "df_checkpoint_4['maxPlace'] = df_checkpoint_4['maxPlace'].apply(map_to)"
   ]
  },
  {
   "cell_type": "code",
   "execution_count": 66,
   "metadata": {},
   "outputs": [],
   "source": [
    "# df_checkpoint_4.head()"
   ]
  },
  {
   "cell_type": "code",
   "execution_count": 67,
   "metadata": {},
   "outputs": [],
   "source": [
    "max_place_one_hot_encoded = pd.get_dummies(df_checkpoint_4['maxPlace'])\n",
    "# max_place_one_hot_encoded"
   ]
  },
  {
   "cell_type": "code",
   "execution_count": 68,
   "metadata": {},
   "outputs": [
    {
     "data": {
      "text/plain": [
       "Int64Index([1, 2, 3, 4, 5, 6, 7, 8, 9, 10], dtype='int64')"
      ]
     },
     "execution_count": 68,
     "metadata": {},
     "output_type": "execute_result"
    }
   ],
   "source": [
    "max_place_one_hot_encoded.columns"
   ]
  },
  {
   "cell_type": "code",
   "execution_count": 69,
   "metadata": {},
   "outputs": [
    {
     "data": {
      "text/plain": [
       "Index(['maxPlace_Group1', 'maxPlace_Group2', 'maxPlace_Group3',\n",
       "       'maxPlace_Group4', 'maxPlace_Group5', 'maxPlace_Group6',\n",
       "       'maxPlace_Group7', 'maxPlace_Group8', 'maxPlace_Group9',\n",
       "       'maxPlace_Group10'],\n",
       "      dtype='object')"
      ]
     },
     "execution_count": 69,
     "metadata": {},
     "output_type": "execute_result"
    }
   ],
   "source": [
    "max_place_new_column_names = [\"maxPlace_Group1\", \"maxPlace_Group2\", \"maxPlace_Group3\", \"maxPlace_Group4\", \"maxPlace_Group5\", \"maxPlace_Group6\", \"maxPlace_Group7\", \"maxPlace_Group8\", \"maxPlace_Group9\", \"maxPlace_Group10\"]\n",
    "max_place_one_hot_encoded.columns = max_place_new_column_names\n",
    "max_place_one_hot_encoded.columns"
   ]
  },
  {
   "cell_type": "code",
   "execution_count": 70,
   "metadata": {},
   "outputs": [],
   "source": [
    "# max_place_one_hot_encoded"
   ]
  },
  {
   "cell_type": "code",
   "execution_count": 71,
   "metadata": {},
   "outputs": [],
   "source": [
    "df_checkpoint_4 = df_checkpoint_4.drop(['maxPlace'], axis=1)\n",
    "# df_checkpoint_4.head()"
   ]
  },
  {
   "cell_type": "code",
   "execution_count": 72,
   "metadata": {},
   "outputs": [],
   "source": [
    "df_checkpoint_4 = pd.concat([df_checkpoint_4, max_place_one_hot_encoded], axis=1)\n",
    "# df_checkpoint_4.head()"
   ]
  },
  {
   "cell_type": "markdown",
   "metadata": {},
   "source": [
    "## Checkpoint 5"
   ]
  },
  {
   "cell_type": "code",
   "execution_count": 73,
   "metadata": {},
   "outputs": [],
   "source": [
    "df_checkpoint_5 = df_checkpoint_4.copy()"
   ]
  },
  {
   "cell_type": "markdown",
   "metadata": {},
   "source": [
    "## Preprocessing 'numGroups' column"
   ]
  },
  {
   "cell_type": "code",
   "execution_count": 74,
   "metadata": {},
   "outputs": [
    {
     "data": {
      "text/plain": [
       "(array([ 26,  25,  47,  30,  95,  28,  92,  27,  29,  46,  94,  48,  45,\n",
       "         44,  31,  89,  93,  42,  23,  49,  86,  50,  20,  88,  36,  24,\n",
       "         96,  97,  32,  41,  85,  91,  43,  98,  40,  79,  16,  34,  73,\n",
       "         90,  39,  87,  77,  22,  84,   1,  83,  12,  33,  19,  78,   8,\n",
       "         13,   2,  65,  17, 100,  21,  75,  82,  99,  59,  64,  70,  72,\n",
       "          7,  80,  53,  10,  15,  18,  76,  81,  66,  38,  58,   6,  74,\n",
       "          5,  35,  52,  11,  14,  37,  56,   9,  60,  67,  71,   3,  63,\n",
       "         54,   4,  61,  68,  62,  69,  51,  57,  55], dtype=int64), 0)"
      ]
     },
     "execution_count": 74,
     "metadata": {},
     "output_type": "execute_result"
    }
   ],
   "source": [
    "df_checkpoint_5['numGroups'].unique(), df_checkpoint_5['numGroups'].isna().sum()"
   ]
  },
  {
   "cell_type": "code",
   "execution_count": 75,
   "metadata": {},
   "outputs": [],
   "source": [
    "# We are going to group the categories in groups of 10, i.e 1 -> [1, 10], 2 -> [11, 20] etc.\n",
    "df_checkpoint_5['numGroups'] = df_checkpoint_5['numGroups'].apply(map_to)\n",
    "# df_checkpoint_5.head()"
   ]
  },
  {
   "cell_type": "code",
   "execution_count": 76,
   "metadata": {},
   "outputs": [],
   "source": [
    "num_groups_one_hot_encoded = pd.get_dummies(df_checkpoint_5['numGroups'])\n",
    "# num_groups_one_hot_encoded"
   ]
  },
  {
   "cell_type": "code",
   "execution_count": 77,
   "metadata": {},
   "outputs": [
    {
     "data": {
      "text/plain": [
       "Int64Index([1, 2, 3, 4, 5, 6, 7, 8, 9, 10], dtype='int64')"
      ]
     },
     "execution_count": 77,
     "metadata": {},
     "output_type": "execute_result"
    }
   ],
   "source": [
    "num_groups_one_hot_encoded.columns"
   ]
  },
  {
   "cell_type": "code",
   "execution_count": 78,
   "metadata": {},
   "outputs": [],
   "source": [
    "num_groups_new_column_names = [\"numGroups_Group1\", \"numGroups_Group2\", \"numGroups_Group3\", \"numGroups_Group4\", \"numGroups_Group5\", \"numGroups_Group6\", \"numGroups_Group7\", \"numGroups_Group8\", \"numGroups_Group9\", \"numGroups_Group10\"]\n",
    "num_groups_one_hot_encoded.columns = num_groups_new_column_names\n",
    "# num_groups_one_hot_encoded"
   ]
  },
  {
   "cell_type": "code",
   "execution_count": 79,
   "metadata": {},
   "outputs": [],
   "source": [
    "df_checkpoint_5 = df_checkpoint_5.drop(['numGroups'], axis=1)\n",
    "# df_checkpoint_5.head()"
   ]
  },
  {
   "cell_type": "code",
   "execution_count": 80,
   "metadata": {},
   "outputs": [],
   "source": [
    "df_checkpoint_5 = pd.concat([df_checkpoint_5, num_groups_one_hot_encoded], axis=1)\n",
    "# df_checkpoint_5.head()"
   ]
  },
  {
   "cell_type": "markdown",
   "metadata": {},
   "source": [
    "## Checkpoint 6"
   ]
  },
  {
   "cell_type": "code",
   "execution_count": 81,
   "metadata": {},
   "outputs": [],
   "source": [
    "df_checkpoint_6 = df_checkpoint_5.copy()\n",
    "# df_checkpoint_6.head()"
   ]
  },
  {
   "cell_type": "markdown",
   "metadata": {},
   "source": [
    "## Preprocessing 'rankPoints' column"
   ]
  },
  {
   "cell_type": "code",
   "execution_count": 82,
   "metadata": {},
   "outputs": [
    {
     "data": {
      "text/plain": [
       "(array([  -1, 1484, 1491, ...,  225, 3489, 2962], dtype=int64), 0)"
      ]
     },
     "execution_count": 82,
     "metadata": {},
     "output_type": "execute_result"
    }
   ],
   "source": [
    "df_checkpoint_6['rankPoints'].unique(), df_checkpoint_6['rankPoints'].isna().sum()"
   ]
  },
  {
   "cell_type": "code",
   "execution_count": 83,
   "metadata": {},
   "outputs": [],
   "source": [
    "# We are going to remove this column all together because the docs of the data said that this feature is deprecated and will \n",
    "# not be present in future data. We are also removing this column because an Elo score is very inconsistent. \n",
    "df_checkpoint_6 = df_checkpoint_6.drop(['rankPoints'], axis=1)\n",
    "# df_checkpoint_6.head()"
   ]
  },
  {
   "cell_type": "markdown",
   "metadata": {},
   "source": [
    "## Preprocessing 'revives' column"
   ]
  },
  {
   "cell_type": "code",
   "execution_count": 84,
   "metadata": {},
   "outputs": [
    {
     "data": {
      "text/plain": [
       "(array([ 0,  1,  3,  2,  4,  5,  6,  8,  9,  7, 13, 16, 11, 12, 10, 17, 14,\n",
       "        19, 15, 18, 20, 28, 23, 39, 32], dtype=int64), 0)"
      ]
     },
     "execution_count": 84,
     "metadata": {},
     "output_type": "execute_result"
    }
   ],
   "source": [
    "df_checkpoint_6['revives'].unique(), df_checkpoint_6['revives'].isna().sum()"
   ]
  },
  {
   "cell_type": "code",
   "execution_count": 85,
   "metadata": {},
   "outputs": [
    {
     "name": "stderr",
     "output_type": "stream",
     "text": [
      "C:\\Users\\retic\\Anaconda3\\lib\\site-packages\\sklearn\\utils\\validation.py:595: DataConversionWarning: Data with input dtype int64 was converted to float64 by the scale function.\n",
      "  warnings.warn(msg, DataConversionWarning)\n"
     ]
    }
   ],
   "source": [
    "# We are going to standardize the 'revives' column since it is a ratio data type.\n",
    "df_checkpoint_6[['revives']] = preprocessing.scale(df_checkpoint_6['revives'])\n",
    "# df_checkpoint_6.head()"
   ]
  },
  {
   "cell_type": "markdown",
   "metadata": {},
   "source": [
    "## Preprocessing 'rideDistance' column"
   ]
  },
  {
   "cell_type": "code",
   "execution_count": 86,
   "metadata": {},
   "outputs": [
    {
     "data": {
      "text/plain": [
       "(array([0.000e+00, 4.500e-03, 2.004e+03, ..., 8.851e+00, 3.123e+00,\n",
       "        6.951e+01]), 0)"
      ]
     },
     "execution_count": 86,
     "metadata": {},
     "output_type": "execute_result"
    }
   ],
   "source": [
    "df_checkpoint_6['rideDistance'].unique(), df_checkpoint_6['rideDistance'].isna().sum()"
   ]
  },
  {
   "cell_type": "code",
   "execution_count": 87,
   "metadata": {},
   "outputs": [],
   "source": [
    "# We are going to standardize the 'rideDistance' column since it is a ratio data type.\n",
    "df_checkpoint_6[['rideDistance']] = preprocessing.scale(df_checkpoint_6['rideDistance'])\n",
    "# df_checkpoint_6.head()"
   ]
  },
  {
   "cell_type": "markdown",
   "metadata": {},
   "source": [
    "## Checkpoint 7"
   ]
  },
  {
   "cell_type": "code",
   "execution_count": 88,
   "metadata": {},
   "outputs": [],
   "source": [
    "df_checkpoint_7 = df_checkpoint_6.copy()"
   ]
  },
  {
   "cell_type": "markdown",
   "metadata": {},
   "source": [
    "## Preprocessing 'roadKills' column"
   ]
  },
  {
   "cell_type": "code",
   "execution_count": 89,
   "metadata": {},
   "outputs": [
    {
     "data": {
      "text/plain": [
       "(array([ 0,  1,  2,  3,  4,  5,  6,  8,  7,  9, 14, 11, 18, 10],\n",
       "       dtype=int64), 0)"
      ]
     },
     "execution_count": 89,
     "metadata": {},
     "output_type": "execute_result"
    }
   ],
   "source": [
    "df_checkpoint_7['roadKills'].unique(), df_checkpoint_7['roadKills'].isna().sum()"
   ]
  },
  {
   "cell_type": "code",
   "execution_count": 90,
   "metadata": {},
   "outputs": [
    {
     "name": "stderr",
     "output_type": "stream",
     "text": [
      "C:\\Users\\retic\\Anaconda3\\lib\\site-packages\\sklearn\\utils\\validation.py:595: DataConversionWarning: Data with input dtype int64 was converted to float64 by the scale function.\n",
      "  warnings.warn(msg, DataConversionWarning)\n"
     ]
    }
   ],
   "source": [
    "# We are going to standardize the 'roadKills' column since it is a ratio data type.\n",
    "df_checkpoint_7[['roadKills']] = preprocessing.scale(df_checkpoint_7['roadKills'])\n",
    "# df_checkpoint_7.head()"
   ]
  },
  {
   "cell_type": "markdown",
   "metadata": {},
   "source": [
    "## Preprocessing 'swimDistance' column"
   ]
  },
  {
   "cell_type": "code",
   "execution_count": 91,
   "metadata": {},
   "outputs": [
    {
     "data": {
      "text/plain": [
       "(array([0.000e+00, 1.104e+01, 7.684e+01, ..., 6.919e-01, 7.187e+02,\n",
       "        8.026e+02]), 0)"
      ]
     },
     "execution_count": 91,
     "metadata": {},
     "output_type": "execute_result"
    }
   ],
   "source": [
    "df_checkpoint_7['swimDistance'].unique(), df_checkpoint_7['swimDistance'].isna().sum()"
   ]
  },
  {
   "cell_type": "code",
   "execution_count": 92,
   "metadata": {},
   "outputs": [],
   "source": [
    "# We are going to standardize the 'swimDistance' column since it is a ratio data type.\n",
    "df_checkpoint_7[['swimDistance']] = preprocessing.scale(df_checkpoint_7['swimDistance'])\n",
    "# df_checkpoint_7.head()"
   ]
  },
  {
   "cell_type": "markdown",
   "metadata": {},
   "source": [
    "## Preprocessing 'teamKills' column"
   ]
  },
  {
   "cell_type": "code",
   "execution_count": 93,
   "metadata": {},
   "outputs": [
    {
     "data": {
      "text/plain": [
       "(array([ 0,  1,  2,  3,  4,  5, 10,  7, 12,  6,  8], dtype=int64), 0)"
      ]
     },
     "execution_count": 93,
     "metadata": {},
     "output_type": "execute_result"
    }
   ],
   "source": [
    "df_checkpoint_7['teamKills'].unique(), df_checkpoint_7['teamKills'].isna().sum()"
   ]
  },
  {
   "cell_type": "code",
   "execution_count": 94,
   "metadata": {},
   "outputs": [
    {
     "name": "stderr",
     "output_type": "stream",
     "text": [
      "C:\\Users\\retic\\Anaconda3\\lib\\site-packages\\sklearn\\utils\\validation.py:595: DataConversionWarning: Data with input dtype int64 was converted to float64 by the scale function.\n",
      "  warnings.warn(msg, DataConversionWarning)\n"
     ]
    }
   ],
   "source": [
    "# We are going to standardize the 'teamKills' column since it is a ratio data type.\n",
    "df_checkpoint_7[['teamKills']] = preprocessing.scale(df_checkpoint_7['teamKills'])\n",
    "# df_checkpoint_7.head()"
   ]
  },
  {
   "cell_type": "markdown",
   "metadata": {},
   "source": [
    "## Preprocessing 'vehicleDestroys' column"
   ]
  },
  {
   "cell_type": "code",
   "execution_count": 95,
   "metadata": {},
   "outputs": [
    {
     "data": {
      "text/plain": [
       "(array([0, 1, 2, 3, 4, 5], dtype=int64), 0)"
      ]
     },
     "execution_count": 95,
     "metadata": {},
     "output_type": "execute_result"
    }
   ],
   "source": [
    "df_checkpoint_7['vehicleDestroys'].unique(), df_checkpoint_7['vehicleDestroys'].isna().sum()"
   ]
  },
  {
   "cell_type": "code",
   "execution_count": 96,
   "metadata": {},
   "outputs": [
    {
     "name": "stderr",
     "output_type": "stream",
     "text": [
      "C:\\Users\\retic\\Anaconda3\\lib\\site-packages\\sklearn\\utils\\validation.py:595: DataConversionWarning: Data with input dtype int64 was converted to float64 by the scale function.\n",
      "  warnings.warn(msg, DataConversionWarning)\n"
     ]
    }
   ],
   "source": [
    "# We are going to standardize the 'vehicleDestroys' column since it is a ratio data type.\n",
    "df_checkpoint_7[['vehicleDestroys']] = preprocessing.scale(df_checkpoint_7['vehicleDestroys'])\n",
    "# df_checkpoint_7.head()"
   ]
  },
  {
   "cell_type": "markdown",
   "metadata": {},
   "source": [
    "## Checkpoint 8"
   ]
  },
  {
   "cell_type": "code",
   "execution_count": 97,
   "metadata": {},
   "outputs": [],
   "source": [
    "df_checkpoint_8 = df_checkpoint_7.copy()"
   ]
  },
  {
   "cell_type": "markdown",
   "metadata": {},
   "source": [
    "## Preprocessing 'walkDistance' column"
   ]
  },
  {
   "cell_type": "code",
   "execution_count": 98,
   "metadata": {},
   "outputs": [
    {
     "data": {
      "text/plain": [
       "(array([2.448e+02, 1.434e+03, 1.618e+02, ..., 8.406e-01, 9.023e+03,\n",
       "        9.661e-01]), 0)"
      ]
     },
     "execution_count": 98,
     "metadata": {},
     "output_type": "execute_result"
    }
   ],
   "source": [
    "df_checkpoint_8['walkDistance'].unique(), df_checkpoint_8['walkDistance'].isna().sum()"
   ]
  },
  {
   "cell_type": "code",
   "execution_count": 99,
   "metadata": {},
   "outputs": [],
   "source": [
    "# We are going to standardize the 'walkDistance' column since it is a ratio data type.\n",
    "df_checkpoint_8[['walkDistance']] = preprocessing.scale(df_checkpoint_8['walkDistance'])\n",
    "# df_checkpoint_8.head()"
   ]
  },
  {
   "cell_type": "markdown",
   "metadata": {},
   "source": [
    "## Preprocessing 'weaponsAcquired' column"
   ]
  },
  {
   "cell_type": "code",
   "execution_count": 100,
   "metadata": {},
   "outputs": [
    {
     "data": {
      "text/plain": [
       "(array([  1,   5,   2,   3,   6,   4,   9,   7,   0,   8,  11,  10,  13,\n",
       "         14,  43,  15,  12,  28,  16,  21,  22,  18,  25,  26,  19,  24,\n",
       "         23,  20,  17,  30,  36,  38,  34,  46,  33,  29,  50,  52,  37,\n",
       "         48,  27,  41,  44,  45,  61,  42,  39,  63,  71,  31,  35,  59,\n",
       "         55,  72,  32,  67,  40,  49, 128,  53,  47,  56,  60,  70,  51,\n",
       "         80,  64,  62,  65,  66,  54,  68,  77,  69, 102,  95,  83,  94,\n",
       "         78,  96,  57,  76, 167, 177, 153,  75,  87,  85, 236,  58,  74,\n",
       "         88,  73,  81,  97,  89,  92], dtype=int64), 0)"
      ]
     },
     "execution_count": 100,
     "metadata": {},
     "output_type": "execute_result"
    }
   ],
   "source": [
    "df_checkpoint_8['weaponsAcquired'].unique(), df_checkpoint_8['weaponsAcquired'].isna().sum()"
   ]
  },
  {
   "cell_type": "code",
   "execution_count": 101,
   "metadata": {},
   "outputs": [
    {
     "name": "stderr",
     "output_type": "stream",
     "text": [
      "C:\\Users\\retic\\Anaconda3\\lib\\site-packages\\sklearn\\utils\\validation.py:595: DataConversionWarning: Data with input dtype int64 was converted to float64 by the scale function.\n",
      "  warnings.warn(msg, DataConversionWarning)\n"
     ]
    }
   ],
   "source": [
    "# We are going to standardize the 'weaponsAcquired' column since it is a ratio data type.\n",
    "df_checkpoint_8[['weaponsAcquired']] = preprocessing.scale(df_checkpoint_8['weaponsAcquired'])\n",
    "# df_checkpoint_8.head()"
   ]
  },
  {
   "cell_type": "markdown",
   "metadata": {},
   "source": [
    "## Preprocessing 'winPoints' column"
   ]
  },
  {
   "cell_type": "code",
   "execution_count": 102,
   "metadata": {},
   "outputs": [
    {
     "data": {
      "text/plain": [
       "(array([1466,    0, 1497, ...,  386,  962,  916], dtype=int64), 0)"
      ]
     },
     "execution_count": 102,
     "metadata": {},
     "output_type": "execute_result"
    }
   ],
   "source": [
    "df_checkpoint_8['winPoints'].unique(), df_checkpoint_8['winPoints'].isna().sum()"
   ]
  },
  {
   "cell_type": "code",
   "execution_count": 103,
   "metadata": {},
   "outputs": [
    {
     "name": "stderr",
     "output_type": "stream",
     "text": [
      "C:\\Users\\retic\\Anaconda3\\lib\\site-packages\\sklearn\\utils\\validation.py:595: DataConversionWarning: Data with input dtype int64 was converted to float64 by the scale function.\n",
      "  warnings.warn(msg, DataConversionWarning)\n"
     ]
    },
    {
     "data": {
      "text/html": [
       "<div>\n",
       "<style scoped>\n",
       "    .dataframe tbody tr th:only-of-type {\n",
       "        vertical-align: middle;\n",
       "    }\n",
       "\n",
       "    .dataframe tbody tr th {\n",
       "        vertical-align: top;\n",
       "    }\n",
       "\n",
       "    .dataframe thead th {\n",
       "        text-align: right;\n",
       "    }\n",
       "</style>\n",
       "<table border=\"1\" class=\"dataframe\">\n",
       "  <thead>\n",
       "    <tr style=\"text-align: right;\">\n",
       "      <th></th>\n",
       "      <th>Id</th>\n",
       "      <th>assists</th>\n",
       "      <th>boosts</th>\n",
       "      <th>damageDealt</th>\n",
       "      <th>DBNOs</th>\n",
       "      <th>headshotKills</th>\n",
       "      <th>heals</th>\n",
       "      <th>killPlace_Group1</th>\n",
       "      <th>killPlace_Group2</th>\n",
       "      <th>killPlace_Group3</th>\n",
       "      <th>killPlace_Group4</th>\n",
       "      <th>killPlace_Group5</th>\n",
       "      <th>killPlace_Group6</th>\n",
       "      <th>killPlace_Group7</th>\n",
       "      <th>killPlace_Group8</th>\n",
       "      <th>killPlace_Group9</th>\n",
       "      <th>killPlace_Group10</th>\n",
       "      <th>killPoints</th>\n",
       "      <th>kills</th>\n",
       "      <th>killStreaks</th>\n",
       "      <th>longestKill</th>\n",
       "      <th>matchDuration</th>\n",
       "      <th>revives</th>\n",
       "      <th>rideDistance</th>\n",
       "      <th>roadKills</th>\n",
       "      <th>swimDistance</th>\n",
       "      <th>teamKills</th>\n",
       "      <th>vehicleDestroys</th>\n",
       "      <th>walkDistance</th>\n",
       "      <th>weaponsAcquired</th>\n",
       "      <th>winPoints</th>\n",
       "      <th>winPlacePerc</th>\n",
       "      <th>crashfpp</th>\n",
       "      <th>crashtpp</th>\n",
       "      <th>duo</th>\n",
       "      <th>duo-fpp</th>\n",
       "      <th>flarefpp</th>\n",
       "      <th>flaretpp</th>\n",
       "      <th>normal-duo</th>\n",
       "      <th>normal-duo-fpp</th>\n",
       "      <th>normal-solo</th>\n",
       "      <th>normal-solo-fpp</th>\n",
       "      <th>normal-squad</th>\n",
       "      <th>normal-squad-fpp</th>\n",
       "      <th>solo</th>\n",
       "      <th>solo-fpp</th>\n",
       "      <th>squad</th>\n",
       "      <th>squad-fpp</th>\n",
       "      <th>maxPlace_Group1</th>\n",
       "      <th>maxPlace_Group2</th>\n",
       "      <th>maxPlace_Group3</th>\n",
       "      <th>maxPlace_Group4</th>\n",
       "      <th>maxPlace_Group5</th>\n",
       "      <th>maxPlace_Group6</th>\n",
       "      <th>maxPlace_Group7</th>\n",
       "      <th>maxPlace_Group8</th>\n",
       "      <th>maxPlace_Group9</th>\n",
       "      <th>maxPlace_Group10</th>\n",
       "      <th>numGroups_Group1</th>\n",
       "      <th>numGroups_Group2</th>\n",
       "      <th>numGroups_Group3</th>\n",
       "      <th>numGroups_Group4</th>\n",
       "      <th>numGroups_Group5</th>\n",
       "      <th>numGroups_Group6</th>\n",
       "      <th>numGroups_Group7</th>\n",
       "      <th>numGroups_Group8</th>\n",
       "      <th>numGroups_Group9</th>\n",
       "      <th>numGroups_Group10</th>\n",
       "    </tr>\n",
       "  </thead>\n",
       "  <tbody>\n",
       "    <tr>\n",
       "      <th>0</th>\n",
       "      <td>7f96b2f878858a</td>\n",
       "      <td>-0.397257</td>\n",
       "      <td>-0.645129</td>\n",
       "      <td>-0.765410</td>\n",
       "      <td>-0.574191</td>\n",
       "      <td>-0.37668</td>\n",
       "      <td>-0.511252</td>\n",
       "      <td>0</td>\n",
       "      <td>0</td>\n",
       "      <td>0</td>\n",
       "      <td>0</td>\n",
       "      <td>0</td>\n",
       "      <td>1</td>\n",
       "      <td>0</td>\n",
       "      <td>0</td>\n",
       "      <td>0</td>\n",
       "      <td>0</td>\n",
       "      <td>1.172889</td>\n",
       "      <td>-0.593402</td>\n",
       "      <td>-0.765087</td>\n",
       "      <td>-0.451176</td>\n",
       "      <td>-1.057071</td>\n",
       "      <td>-0.34873</td>\n",
       "      <td>-0.404524</td>\n",
       "      <td>-0.047648</td>\n",
       "      <td>-0.147836</td>\n",
       "      <td>-0.142589</td>\n",
       "      <td>-0.085499</td>\n",
       "      <td>-0.768416</td>\n",
       "      <td>-1.083021</td>\n",
       "      <td>1.162011</td>\n",
       "      <td>0.4444</td>\n",
       "      <td>0</td>\n",
       "      <td>0</td>\n",
       "      <td>0</td>\n",
       "      <td>0</td>\n",
       "      <td>0</td>\n",
       "      <td>0</td>\n",
       "      <td>0</td>\n",
       "      <td>0</td>\n",
       "      <td>0</td>\n",
       "      <td>0</td>\n",
       "      <td>0</td>\n",
       "      <td>0</td>\n",
       "      <td>0</td>\n",
       "      <td>0</td>\n",
       "      <td>0</td>\n",
       "      <td>1</td>\n",
       "      <td>0</td>\n",
       "      <td>0</td>\n",
       "      <td>1</td>\n",
       "      <td>0</td>\n",
       "      <td>0</td>\n",
       "      <td>0</td>\n",
       "      <td>0</td>\n",
       "      <td>0</td>\n",
       "      <td>0</td>\n",
       "      <td>0</td>\n",
       "      <td>0</td>\n",
       "      <td>0</td>\n",
       "      <td>1</td>\n",
       "      <td>0</td>\n",
       "      <td>0</td>\n",
       "      <td>0</td>\n",
       "      <td>0</td>\n",
       "      <td>0</td>\n",
       "      <td>0</td>\n",
       "      <td>0</td>\n",
       "    </tr>\n",
       "    <tr>\n",
       "      <th>1</th>\n",
       "      <td>eef90569b9d03c</td>\n",
       "      <td>-0.397257</td>\n",
       "      <td>-0.645129</td>\n",
       "      <td>-0.229810</td>\n",
       "      <td>-0.574191</td>\n",
       "      <td>-0.37668</td>\n",
       "      <td>-0.511252</td>\n",
       "      <td>0</td>\n",
       "      <td>0</td>\n",
       "      <td>0</td>\n",
       "      <td>0</td>\n",
       "      <td>0</td>\n",
       "      <td>1</td>\n",
       "      <td>0</td>\n",
       "      <td>0</td>\n",
       "      <td>0</td>\n",
       "      <td>0</td>\n",
       "      <td>-0.804784</td>\n",
       "      <td>-0.593402</td>\n",
       "      <td>-0.765087</td>\n",
       "      <td>-0.451176</td>\n",
       "      <td>0.763290</td>\n",
       "      <td>-0.34873</td>\n",
       "      <td>-0.404521</td>\n",
       "      <td>-0.047648</td>\n",
       "      <td>0.214105</td>\n",
       "      <td>-0.142589</td>\n",
       "      <td>-0.085499</td>\n",
       "      <td>0.236403</td>\n",
       "      <td>0.545283</td>\n",
       "      <td>-0.819873</td>\n",
       "      <td>0.6400</td>\n",
       "      <td>0</td>\n",
       "      <td>0</td>\n",
       "      <td>0</td>\n",
       "      <td>0</td>\n",
       "      <td>0</td>\n",
       "      <td>0</td>\n",
       "      <td>0</td>\n",
       "      <td>0</td>\n",
       "      <td>0</td>\n",
       "      <td>0</td>\n",
       "      <td>0</td>\n",
       "      <td>0</td>\n",
       "      <td>0</td>\n",
       "      <td>0</td>\n",
       "      <td>0</td>\n",
       "      <td>1</td>\n",
       "      <td>0</td>\n",
       "      <td>0</td>\n",
       "      <td>1</td>\n",
       "      <td>0</td>\n",
       "      <td>0</td>\n",
       "      <td>0</td>\n",
       "      <td>0</td>\n",
       "      <td>0</td>\n",
       "      <td>0</td>\n",
       "      <td>0</td>\n",
       "      <td>0</td>\n",
       "      <td>0</td>\n",
       "      <td>1</td>\n",
       "      <td>0</td>\n",
       "      <td>0</td>\n",
       "      <td>0</td>\n",
       "      <td>0</td>\n",
       "      <td>0</td>\n",
       "      <td>0</td>\n",
       "      <td>0</td>\n",
       "    </tr>\n",
       "    <tr>\n",
       "      <th>2</th>\n",
       "      <td>1eaf90ac73de72</td>\n",
       "      <td>1.301767</td>\n",
       "      <td>-0.645129</td>\n",
       "      <td>-0.367238</td>\n",
       "      <td>-0.574191</td>\n",
       "      <td>-0.37668</td>\n",
       "      <td>-0.511252</td>\n",
       "      <td>0</td>\n",
       "      <td>0</td>\n",
       "      <td>0</td>\n",
       "      <td>0</td>\n",
       "      <td>1</td>\n",
       "      <td>0</td>\n",
       "      <td>0</td>\n",
       "      <td>0</td>\n",
       "      <td>0</td>\n",
       "      <td>0</td>\n",
       "      <td>-0.804784</td>\n",
       "      <td>-0.593402</td>\n",
       "      <td>-0.765087</td>\n",
       "      <td>-0.451176</td>\n",
       "      <td>-1.010692</td>\n",
       "      <td>-0.34873</td>\n",
       "      <td>-0.404524</td>\n",
       "      <td>-0.047648</td>\n",
       "      <td>-0.147836</td>\n",
       "      <td>-0.142589</td>\n",
       "      <td>-0.085499</td>\n",
       "      <td>-0.838547</td>\n",
       "      <td>-0.675945</td>\n",
       "      <td>-0.819873</td>\n",
       "      <td>0.7755</td>\n",
       "      <td>0</td>\n",
       "      <td>0</td>\n",
       "      <td>1</td>\n",
       "      <td>0</td>\n",
       "      <td>0</td>\n",
       "      <td>0</td>\n",
       "      <td>0</td>\n",
       "      <td>0</td>\n",
       "      <td>0</td>\n",
       "      <td>0</td>\n",
       "      <td>0</td>\n",
       "      <td>0</td>\n",
       "      <td>0</td>\n",
       "      <td>0</td>\n",
       "      <td>0</td>\n",
       "      <td>0</td>\n",
       "      <td>0</td>\n",
       "      <td>0</td>\n",
       "      <td>0</td>\n",
       "      <td>0</td>\n",
       "      <td>1</td>\n",
       "      <td>0</td>\n",
       "      <td>0</td>\n",
       "      <td>0</td>\n",
       "      <td>0</td>\n",
       "      <td>0</td>\n",
       "      <td>0</td>\n",
       "      <td>0</td>\n",
       "      <td>0</td>\n",
       "      <td>0</td>\n",
       "      <td>1</td>\n",
       "      <td>0</td>\n",
       "      <td>0</td>\n",
       "      <td>0</td>\n",
       "      <td>0</td>\n",
       "      <td>0</td>\n",
       "    </tr>\n",
       "    <tr>\n",
       "      <th>3</th>\n",
       "      <td>4616d365dd2853</td>\n",
       "      <td>-0.397257</td>\n",
       "      <td>-0.645129</td>\n",
       "      <td>-0.572765</td>\n",
       "      <td>-0.574191</td>\n",
       "      <td>-0.37668</td>\n",
       "      <td>-0.511252</td>\n",
       "      <td>0</td>\n",
       "      <td>0</td>\n",
       "      <td>0</td>\n",
       "      <td>0</td>\n",
       "      <td>0</td>\n",
       "      <td>0</td>\n",
       "      <td>0</td>\n",
       "      <td>1</td>\n",
       "      <td>0</td>\n",
       "      <td>0</td>\n",
       "      <td>-0.804784</td>\n",
       "      <td>-0.593402</td>\n",
       "      <td>-0.765087</td>\n",
       "      <td>-0.451176</td>\n",
       "      <td>-0.554636</td>\n",
       "      <td>-0.34873</td>\n",
       "      <td>-0.404524</td>\n",
       "      <td>-0.047648</td>\n",
       "      <td>-0.147836</td>\n",
       "      <td>-0.142589</td>\n",
       "      <td>-0.085499</td>\n",
       "      <td>-0.803989</td>\n",
       "      <td>-0.268869</td>\n",
       "      <td>-0.819873</td>\n",
       "      <td>0.1667</td>\n",
       "      <td>0</td>\n",
       "      <td>0</td>\n",
       "      <td>0</td>\n",
       "      <td>0</td>\n",
       "      <td>0</td>\n",
       "      <td>0</td>\n",
       "      <td>0</td>\n",
       "      <td>0</td>\n",
       "      <td>0</td>\n",
       "      <td>0</td>\n",
       "      <td>0</td>\n",
       "      <td>0</td>\n",
       "      <td>0</td>\n",
       "      <td>0</td>\n",
       "      <td>0</td>\n",
       "      <td>1</td>\n",
       "      <td>0</td>\n",
       "      <td>0</td>\n",
       "      <td>0</td>\n",
       "      <td>1</td>\n",
       "      <td>0</td>\n",
       "      <td>0</td>\n",
       "      <td>0</td>\n",
       "      <td>0</td>\n",
       "      <td>0</td>\n",
       "      <td>0</td>\n",
       "      <td>0</td>\n",
       "      <td>0</td>\n",
       "      <td>1</td>\n",
       "      <td>0</td>\n",
       "      <td>0</td>\n",
       "      <td>0</td>\n",
       "      <td>0</td>\n",
       "      <td>0</td>\n",
       "      <td>0</td>\n",
       "      <td>0</td>\n",
       "    </tr>\n",
       "    <tr>\n",
       "      <th>4</th>\n",
       "      <td>315c96c26c9aac</td>\n",
       "      <td>-0.397257</td>\n",
       "      <td>-0.645129</td>\n",
       "      <td>-0.179863</td>\n",
       "      <td>-0.574191</td>\n",
       "      <td>-0.37668</td>\n",
       "      <td>-0.511252</td>\n",
       "      <td>0</td>\n",
       "      <td>0</td>\n",
       "      <td>0</td>\n",
       "      <td>0</td>\n",
       "      <td>1</td>\n",
       "      <td>0</td>\n",
       "      <td>0</td>\n",
       "      <td>0</td>\n",
       "      <td>0</td>\n",
       "      <td>0</td>\n",
       "      <td>-0.804784</td>\n",
       "      <td>0.048264</td>\n",
       "      <td>0.641438</td>\n",
       "      <td>0.697088</td>\n",
       "      <td>-0.601014</td>\n",
       "      <td>-0.34873</td>\n",
       "      <td>-0.404524</td>\n",
       "      <td>-0.047648</td>\n",
       "      <td>-0.147836</td>\n",
       "      <td>-0.142589</td>\n",
       "      <td>-0.085499</td>\n",
       "      <td>-0.933224</td>\n",
       "      <td>-0.675945</td>\n",
       "      <td>-0.819873</td>\n",
       "      <td>0.1875</td>\n",
       "      <td>0</td>\n",
       "      <td>0</td>\n",
       "      <td>0</td>\n",
       "      <td>0</td>\n",
       "      <td>0</td>\n",
       "      <td>0</td>\n",
       "      <td>0</td>\n",
       "      <td>0</td>\n",
       "      <td>0</td>\n",
       "      <td>0</td>\n",
       "      <td>0</td>\n",
       "      <td>0</td>\n",
       "      <td>0</td>\n",
       "      <td>1</td>\n",
       "      <td>0</td>\n",
       "      <td>0</td>\n",
       "      <td>0</td>\n",
       "      <td>0</td>\n",
       "      <td>0</td>\n",
       "      <td>0</td>\n",
       "      <td>0</td>\n",
       "      <td>0</td>\n",
       "      <td>0</td>\n",
       "      <td>0</td>\n",
       "      <td>0</td>\n",
       "      <td>1</td>\n",
       "      <td>0</td>\n",
       "      <td>0</td>\n",
       "      <td>0</td>\n",
       "      <td>0</td>\n",
       "      <td>0</td>\n",
       "      <td>0</td>\n",
       "      <td>0</td>\n",
       "      <td>0</td>\n",
       "      <td>0</td>\n",
       "      <td>1</td>\n",
       "    </tr>\n",
       "  </tbody>\n",
       "</table>\n",
       "</div>"
      ],
      "text/plain": [
       "               Id   assists    boosts  damageDealt     DBNOs  headshotKills  \\\n",
       "0  7f96b2f878858a -0.397257 -0.645129    -0.765410 -0.574191       -0.37668   \n",
       "1  eef90569b9d03c -0.397257 -0.645129    -0.229810 -0.574191       -0.37668   \n",
       "2  1eaf90ac73de72  1.301767 -0.645129    -0.367238 -0.574191       -0.37668   \n",
       "3  4616d365dd2853 -0.397257 -0.645129    -0.572765 -0.574191       -0.37668   \n",
       "4  315c96c26c9aac -0.397257 -0.645129    -0.179863 -0.574191       -0.37668   \n",
       "\n",
       "      heals  killPlace_Group1  killPlace_Group2  killPlace_Group3  \\\n",
       "0 -0.511252                 0                 0                 0   \n",
       "1 -0.511252                 0                 0                 0   \n",
       "2 -0.511252                 0                 0                 0   \n",
       "3 -0.511252                 0                 0                 0   \n",
       "4 -0.511252                 0                 0                 0   \n",
       "\n",
       "   killPlace_Group4  killPlace_Group5  killPlace_Group6  killPlace_Group7  \\\n",
       "0                 0                 0                 1                 0   \n",
       "1                 0                 0                 1                 0   \n",
       "2                 0                 1                 0                 0   \n",
       "3                 0                 0                 0                 0   \n",
       "4                 0                 1                 0                 0   \n",
       "\n",
       "   killPlace_Group8  killPlace_Group9  killPlace_Group10  killPoints  \\\n",
       "0                 0                 0                  0    1.172889   \n",
       "1                 0                 0                  0   -0.804784   \n",
       "2                 0                 0                  0   -0.804784   \n",
       "3                 1                 0                  0   -0.804784   \n",
       "4                 0                 0                  0   -0.804784   \n",
       "\n",
       "      kills  killStreaks  longestKill  matchDuration  revives  rideDistance  \\\n",
       "0 -0.593402    -0.765087    -0.451176      -1.057071 -0.34873     -0.404524   \n",
       "1 -0.593402    -0.765087    -0.451176       0.763290 -0.34873     -0.404521   \n",
       "2 -0.593402    -0.765087    -0.451176      -1.010692 -0.34873     -0.404524   \n",
       "3 -0.593402    -0.765087    -0.451176      -0.554636 -0.34873     -0.404524   \n",
       "4  0.048264     0.641438     0.697088      -0.601014 -0.34873     -0.404524   \n",
       "\n",
       "   roadKills  swimDistance  teamKills  vehicleDestroys  walkDistance  \\\n",
       "0  -0.047648     -0.147836  -0.142589        -0.085499     -0.768416   \n",
       "1  -0.047648      0.214105  -0.142589        -0.085499      0.236403   \n",
       "2  -0.047648     -0.147836  -0.142589        -0.085499     -0.838547   \n",
       "3  -0.047648     -0.147836  -0.142589        -0.085499     -0.803989   \n",
       "4  -0.047648     -0.147836  -0.142589        -0.085499     -0.933224   \n",
       "\n",
       "   weaponsAcquired  winPoints  winPlacePerc  crashfpp  crashtpp  duo  duo-fpp  \\\n",
       "0        -1.083021   1.162011        0.4444         0         0    0        0   \n",
       "1         0.545283  -0.819873        0.6400         0         0    0        0   \n",
       "2        -0.675945  -0.819873        0.7755         0         0    1        0   \n",
       "3        -0.268869  -0.819873        0.1667         0         0    0        0   \n",
       "4        -0.675945  -0.819873        0.1875         0         0    0        0   \n",
       "\n",
       "   flarefpp  flaretpp  normal-duo  normal-duo-fpp  normal-solo  \\\n",
       "0         0         0           0               0            0   \n",
       "1         0         0           0               0            0   \n",
       "2         0         0           0               0            0   \n",
       "3         0         0           0               0            0   \n",
       "4         0         0           0               0            0   \n",
       "\n",
       "   normal-solo-fpp  normal-squad  normal-squad-fpp  solo  solo-fpp  squad  \\\n",
       "0                0             0                 0     0         0      0   \n",
       "1                0             0                 0     0         0      0   \n",
       "2                0             0                 0     0         0      0   \n",
       "3                0             0                 0     0         0      0   \n",
       "4                0             0                 0     0         1      0   \n",
       "\n",
       "   squad-fpp  maxPlace_Group1  maxPlace_Group2  maxPlace_Group3  \\\n",
       "0          1                0                0                1   \n",
       "1          1                0                0                1   \n",
       "2          0                0                0                0   \n",
       "3          1                0                0                0   \n",
       "4          0                0                0                0   \n",
       "\n",
       "   maxPlace_Group4  maxPlace_Group5  maxPlace_Group6  maxPlace_Group7  \\\n",
       "0                0                0                0                0   \n",
       "1                0                0                0                0   \n",
       "2                0                1                0                0   \n",
       "3                1                0                0                0   \n",
       "4                0                0                0                0   \n",
       "\n",
       "   maxPlace_Group8  maxPlace_Group9  maxPlace_Group10  numGroups_Group1  \\\n",
       "0                0                0                 0                 0   \n",
       "1                0                0                 0                 0   \n",
       "2                0                0                 0                 0   \n",
       "3                0                0                 0                 0   \n",
       "4                0                0                 1                 0   \n",
       "\n",
       "   numGroups_Group2  numGroups_Group3  numGroups_Group4  numGroups_Group5  \\\n",
       "0                 0                 1                 0                 0   \n",
       "1                 0                 1                 0                 0   \n",
       "2                 0                 0                 0                 1   \n",
       "3                 0                 1                 0                 0   \n",
       "4                 0                 0                 0                 0   \n",
       "\n",
       "   numGroups_Group6  numGroups_Group7  numGroups_Group8  numGroups_Group9  \\\n",
       "0                 0                 0                 0                 0   \n",
       "1                 0                 0                 0                 0   \n",
       "2                 0                 0                 0                 0   \n",
       "3                 0                 0                 0                 0   \n",
       "4                 0                 0                 0                 0   \n",
       "\n",
       "   numGroups_Group10  \n",
       "0                  0  \n",
       "1                  0  \n",
       "2                  0  \n",
       "3                  0  \n",
       "4                  1  "
      ]
     },
     "execution_count": 103,
     "metadata": {},
     "output_type": "execute_result"
    }
   ],
   "source": [
    "# We are going to standardize the 'winPoints' column since it is a ratio data type.\n",
    "df_checkpoint_8[['winPoints']] = preprocessing.scale(df_checkpoint_8['winPoints'])\n",
    "df_checkpoint_8.head()"
   ]
  },
  {
   "cell_type": "markdown",
   "metadata": {},
   "source": [
    "## Reordering Columns to suite model"
   ]
  },
  {
   "cell_type": "code",
   "execution_count": 104,
   "metadata": {},
   "outputs": [
    {
     "data": {
      "text/plain": [
       "Index(['Id', 'assists', 'boosts', 'damageDealt', 'DBNOs', 'headshotKills',\n",
       "       'heals', 'killPlace_Group1', 'killPlace_Group2', 'killPlace_Group3',\n",
       "       'killPlace_Group4', 'killPlace_Group5', 'killPlace_Group6',\n",
       "       'killPlace_Group7', 'killPlace_Group8', 'killPlace_Group9',\n",
       "       'killPlace_Group10', 'killPoints', 'kills', 'killStreaks',\n",
       "       'longestKill', 'matchDuration', 'revives', 'rideDistance', 'roadKills',\n",
       "       'swimDistance', 'teamKills', 'vehicleDestroys', 'walkDistance',\n",
       "       'weaponsAcquired', 'winPoints', 'winPlacePerc', 'crashfpp', 'crashtpp',\n",
       "       'duo', 'duo-fpp', 'flarefpp', 'flaretpp', 'normal-duo',\n",
       "       'normal-duo-fpp', 'normal-solo', 'normal-solo-fpp', 'normal-squad',\n",
       "       'normal-squad-fpp', 'solo', 'solo-fpp', 'squad', 'squad-fpp',\n",
       "       'maxPlace_Group1', 'maxPlace_Group2', 'maxPlace_Group3',\n",
       "       'maxPlace_Group4', 'maxPlace_Group5', 'maxPlace_Group6',\n",
       "       'maxPlace_Group7', 'maxPlace_Group8', 'maxPlace_Group9',\n",
       "       'maxPlace_Group10', 'numGroups_Group1', 'numGroups_Group2',\n",
       "       'numGroups_Group3', 'numGroups_Group4', 'numGroups_Group5',\n",
       "       'numGroups_Group6', 'numGroups_Group7', 'numGroups_Group8',\n",
       "       'numGroups_Group9', 'numGroups_Group10'],\n",
       "      dtype='object')"
      ]
     },
     "execution_count": 104,
     "metadata": {},
     "output_type": "execute_result"
    }
   ],
   "source": [
    "df_checkpoint_8.columns"
   ]
  },
  {
   "cell_type": "code",
   "execution_count": 105,
   "metadata": {},
   "outputs": [
    {
     "data": {
      "text/html": [
       "<div>\n",
       "<style scoped>\n",
       "    .dataframe tbody tr th:only-of-type {\n",
       "        vertical-align: middle;\n",
       "    }\n",
       "\n",
       "    .dataframe tbody tr th {\n",
       "        vertical-align: top;\n",
       "    }\n",
       "\n",
       "    .dataframe thead th {\n",
       "        text-align: right;\n",
       "    }\n",
       "</style>\n",
       "<table border=\"1\" class=\"dataframe\">\n",
       "  <thead>\n",
       "    <tr style=\"text-align: right;\">\n",
       "      <th></th>\n",
       "      <th>Id</th>\n",
       "      <th>assists</th>\n",
       "      <th>boosts</th>\n",
       "      <th>damageDealt</th>\n",
       "      <th>DBNOs</th>\n",
       "      <th>headshotKills</th>\n",
       "      <th>heals</th>\n",
       "      <th>killPlace_Group1</th>\n",
       "      <th>killPlace_Group2</th>\n",
       "      <th>killPlace_Group3</th>\n",
       "      <th>killPlace_Group4</th>\n",
       "      <th>killPlace_Group5</th>\n",
       "      <th>killPlace_Group6</th>\n",
       "      <th>killPlace_Group7</th>\n",
       "      <th>killPlace_Group8</th>\n",
       "      <th>killPlace_Group9</th>\n",
       "      <th>killPlace_Group10</th>\n",
       "      <th>killPoints</th>\n",
       "      <th>kills</th>\n",
       "      <th>killStreaks</th>\n",
       "      <th>longestKill</th>\n",
       "      <th>crashfpp</th>\n",
       "      <th>crashtpp</th>\n",
       "      <th>duo</th>\n",
       "      <th>duo-fpp</th>\n",
       "      <th>flarefpp</th>\n",
       "      <th>flaretpp</th>\n",
       "      <th>normal-duo</th>\n",
       "      <th>normal-duo-fpp</th>\n",
       "      <th>normal-solo</th>\n",
       "      <th>normal-solo-fpp</th>\n",
       "      <th>normal-squad</th>\n",
       "      <th>normal-squad-fpp</th>\n",
       "      <th>solo</th>\n",
       "      <th>solo-fpp</th>\n",
       "      <th>squad</th>\n",
       "      <th>squad-fpp</th>\n",
       "      <th>maxPlace_Group1</th>\n",
       "      <th>maxPlace_Group2</th>\n",
       "      <th>maxPlace_Group3</th>\n",
       "      <th>maxPlace_Group4</th>\n",
       "      <th>maxPlace_Group5</th>\n",
       "      <th>maxPlace_Group6</th>\n",
       "      <th>maxPlace_Group7</th>\n",
       "      <th>maxPlace_Group8</th>\n",
       "      <th>maxPlace_Group9</th>\n",
       "      <th>maxPlace_Group10</th>\n",
       "      <th>numGroups_Group1</th>\n",
       "      <th>numGroups_Group2</th>\n",
       "      <th>numGroups_Group3</th>\n",
       "      <th>numGroups_Group4</th>\n",
       "      <th>numGroups_Group5</th>\n",
       "      <th>numGroups_Group6</th>\n",
       "      <th>numGroups_Group7</th>\n",
       "      <th>numGroups_Group8</th>\n",
       "      <th>numGroups_Group9</th>\n",
       "      <th>numGroups_Group10</th>\n",
       "      <th>matchDuration</th>\n",
       "      <th>revives</th>\n",
       "      <th>rideDistance</th>\n",
       "      <th>roadKills</th>\n",
       "      <th>swimDistance</th>\n",
       "      <th>teamKills</th>\n",
       "      <th>vehicleDestroys</th>\n",
       "      <th>walkDistance</th>\n",
       "      <th>weaponsAcquired</th>\n",
       "      <th>winPoints</th>\n",
       "      <th>winPlacePerc</th>\n",
       "    </tr>\n",
       "  </thead>\n",
       "  <tbody>\n",
       "    <tr>\n",
       "      <th>0</th>\n",
       "      <td>7f96b2f878858a</td>\n",
       "      <td>-0.397257</td>\n",
       "      <td>-0.645129</td>\n",
       "      <td>-0.765410</td>\n",
       "      <td>-0.574191</td>\n",
       "      <td>-0.37668</td>\n",
       "      <td>-0.511252</td>\n",
       "      <td>0</td>\n",
       "      <td>0</td>\n",
       "      <td>0</td>\n",
       "      <td>0</td>\n",
       "      <td>0</td>\n",
       "      <td>1</td>\n",
       "      <td>0</td>\n",
       "      <td>0</td>\n",
       "      <td>0</td>\n",
       "      <td>0</td>\n",
       "      <td>1.172889</td>\n",
       "      <td>-0.593402</td>\n",
       "      <td>-0.765087</td>\n",
       "      <td>-0.451176</td>\n",
       "      <td>0</td>\n",
       "      <td>0</td>\n",
       "      <td>0</td>\n",
       "      <td>0</td>\n",
       "      <td>0</td>\n",
       "      <td>0</td>\n",
       "      <td>0</td>\n",
       "      <td>0</td>\n",
       "      <td>0</td>\n",
       "      <td>0</td>\n",
       "      <td>0</td>\n",
       "      <td>0</td>\n",
       "      <td>0</td>\n",
       "      <td>0</td>\n",
       "      <td>0</td>\n",
       "      <td>1</td>\n",
       "      <td>0</td>\n",
       "      <td>0</td>\n",
       "      <td>1</td>\n",
       "      <td>0</td>\n",
       "      <td>0</td>\n",
       "      <td>0</td>\n",
       "      <td>0</td>\n",
       "      <td>0</td>\n",
       "      <td>0</td>\n",
       "      <td>0</td>\n",
       "      <td>0</td>\n",
       "      <td>0</td>\n",
       "      <td>1</td>\n",
       "      <td>0</td>\n",
       "      <td>0</td>\n",
       "      <td>0</td>\n",
       "      <td>0</td>\n",
       "      <td>0</td>\n",
       "      <td>0</td>\n",
       "      <td>0</td>\n",
       "      <td>-1.057071</td>\n",
       "      <td>-0.34873</td>\n",
       "      <td>-0.404524</td>\n",
       "      <td>-0.047648</td>\n",
       "      <td>-0.147836</td>\n",
       "      <td>-0.142589</td>\n",
       "      <td>-0.085499</td>\n",
       "      <td>-0.768416</td>\n",
       "      <td>-1.083021</td>\n",
       "      <td>1.162011</td>\n",
       "      <td>0.4444</td>\n",
       "    </tr>\n",
       "    <tr>\n",
       "      <th>1</th>\n",
       "      <td>eef90569b9d03c</td>\n",
       "      <td>-0.397257</td>\n",
       "      <td>-0.645129</td>\n",
       "      <td>-0.229810</td>\n",
       "      <td>-0.574191</td>\n",
       "      <td>-0.37668</td>\n",
       "      <td>-0.511252</td>\n",
       "      <td>0</td>\n",
       "      <td>0</td>\n",
       "      <td>0</td>\n",
       "      <td>0</td>\n",
       "      <td>0</td>\n",
       "      <td>1</td>\n",
       "      <td>0</td>\n",
       "      <td>0</td>\n",
       "      <td>0</td>\n",
       "      <td>0</td>\n",
       "      <td>-0.804784</td>\n",
       "      <td>-0.593402</td>\n",
       "      <td>-0.765087</td>\n",
       "      <td>-0.451176</td>\n",
       "      <td>0</td>\n",
       "      <td>0</td>\n",
       "      <td>0</td>\n",
       "      <td>0</td>\n",
       "      <td>0</td>\n",
       "      <td>0</td>\n",
       "      <td>0</td>\n",
       "      <td>0</td>\n",
       "      <td>0</td>\n",
       "      <td>0</td>\n",
       "      <td>0</td>\n",
       "      <td>0</td>\n",
       "      <td>0</td>\n",
       "      <td>0</td>\n",
       "      <td>0</td>\n",
       "      <td>1</td>\n",
       "      <td>0</td>\n",
       "      <td>0</td>\n",
       "      <td>1</td>\n",
       "      <td>0</td>\n",
       "      <td>0</td>\n",
       "      <td>0</td>\n",
       "      <td>0</td>\n",
       "      <td>0</td>\n",
       "      <td>0</td>\n",
       "      <td>0</td>\n",
       "      <td>0</td>\n",
       "      <td>0</td>\n",
       "      <td>1</td>\n",
       "      <td>0</td>\n",
       "      <td>0</td>\n",
       "      <td>0</td>\n",
       "      <td>0</td>\n",
       "      <td>0</td>\n",
       "      <td>0</td>\n",
       "      <td>0</td>\n",
       "      <td>0.763290</td>\n",
       "      <td>-0.34873</td>\n",
       "      <td>-0.404521</td>\n",
       "      <td>-0.047648</td>\n",
       "      <td>0.214105</td>\n",
       "      <td>-0.142589</td>\n",
       "      <td>-0.085499</td>\n",
       "      <td>0.236403</td>\n",
       "      <td>0.545283</td>\n",
       "      <td>-0.819873</td>\n",
       "      <td>0.6400</td>\n",
       "    </tr>\n",
       "    <tr>\n",
       "      <th>2</th>\n",
       "      <td>1eaf90ac73de72</td>\n",
       "      <td>1.301767</td>\n",
       "      <td>-0.645129</td>\n",
       "      <td>-0.367238</td>\n",
       "      <td>-0.574191</td>\n",
       "      <td>-0.37668</td>\n",
       "      <td>-0.511252</td>\n",
       "      <td>0</td>\n",
       "      <td>0</td>\n",
       "      <td>0</td>\n",
       "      <td>0</td>\n",
       "      <td>1</td>\n",
       "      <td>0</td>\n",
       "      <td>0</td>\n",
       "      <td>0</td>\n",
       "      <td>0</td>\n",
       "      <td>0</td>\n",
       "      <td>-0.804784</td>\n",
       "      <td>-0.593402</td>\n",
       "      <td>-0.765087</td>\n",
       "      <td>-0.451176</td>\n",
       "      <td>0</td>\n",
       "      <td>0</td>\n",
       "      <td>1</td>\n",
       "      <td>0</td>\n",
       "      <td>0</td>\n",
       "      <td>0</td>\n",
       "      <td>0</td>\n",
       "      <td>0</td>\n",
       "      <td>0</td>\n",
       "      <td>0</td>\n",
       "      <td>0</td>\n",
       "      <td>0</td>\n",
       "      <td>0</td>\n",
       "      <td>0</td>\n",
       "      <td>0</td>\n",
       "      <td>0</td>\n",
       "      <td>0</td>\n",
       "      <td>0</td>\n",
       "      <td>0</td>\n",
       "      <td>0</td>\n",
       "      <td>1</td>\n",
       "      <td>0</td>\n",
       "      <td>0</td>\n",
       "      <td>0</td>\n",
       "      <td>0</td>\n",
       "      <td>0</td>\n",
       "      <td>0</td>\n",
       "      <td>0</td>\n",
       "      <td>0</td>\n",
       "      <td>0</td>\n",
       "      <td>1</td>\n",
       "      <td>0</td>\n",
       "      <td>0</td>\n",
       "      <td>0</td>\n",
       "      <td>0</td>\n",
       "      <td>0</td>\n",
       "      <td>-1.010692</td>\n",
       "      <td>-0.34873</td>\n",
       "      <td>-0.404524</td>\n",
       "      <td>-0.047648</td>\n",
       "      <td>-0.147836</td>\n",
       "      <td>-0.142589</td>\n",
       "      <td>-0.085499</td>\n",
       "      <td>-0.838547</td>\n",
       "      <td>-0.675945</td>\n",
       "      <td>-0.819873</td>\n",
       "      <td>0.7755</td>\n",
       "    </tr>\n",
       "    <tr>\n",
       "      <th>3</th>\n",
       "      <td>4616d365dd2853</td>\n",
       "      <td>-0.397257</td>\n",
       "      <td>-0.645129</td>\n",
       "      <td>-0.572765</td>\n",
       "      <td>-0.574191</td>\n",
       "      <td>-0.37668</td>\n",
       "      <td>-0.511252</td>\n",
       "      <td>0</td>\n",
       "      <td>0</td>\n",
       "      <td>0</td>\n",
       "      <td>0</td>\n",
       "      <td>0</td>\n",
       "      <td>0</td>\n",
       "      <td>0</td>\n",
       "      <td>1</td>\n",
       "      <td>0</td>\n",
       "      <td>0</td>\n",
       "      <td>-0.804784</td>\n",
       "      <td>-0.593402</td>\n",
       "      <td>-0.765087</td>\n",
       "      <td>-0.451176</td>\n",
       "      <td>0</td>\n",
       "      <td>0</td>\n",
       "      <td>0</td>\n",
       "      <td>0</td>\n",
       "      <td>0</td>\n",
       "      <td>0</td>\n",
       "      <td>0</td>\n",
       "      <td>0</td>\n",
       "      <td>0</td>\n",
       "      <td>0</td>\n",
       "      <td>0</td>\n",
       "      <td>0</td>\n",
       "      <td>0</td>\n",
       "      <td>0</td>\n",
       "      <td>0</td>\n",
       "      <td>1</td>\n",
       "      <td>0</td>\n",
       "      <td>0</td>\n",
       "      <td>0</td>\n",
       "      <td>1</td>\n",
       "      <td>0</td>\n",
       "      <td>0</td>\n",
       "      <td>0</td>\n",
       "      <td>0</td>\n",
       "      <td>0</td>\n",
       "      <td>0</td>\n",
       "      <td>0</td>\n",
       "      <td>0</td>\n",
       "      <td>1</td>\n",
       "      <td>0</td>\n",
       "      <td>0</td>\n",
       "      <td>0</td>\n",
       "      <td>0</td>\n",
       "      <td>0</td>\n",
       "      <td>0</td>\n",
       "      <td>0</td>\n",
       "      <td>-0.554636</td>\n",
       "      <td>-0.34873</td>\n",
       "      <td>-0.404524</td>\n",
       "      <td>-0.047648</td>\n",
       "      <td>-0.147836</td>\n",
       "      <td>-0.142589</td>\n",
       "      <td>-0.085499</td>\n",
       "      <td>-0.803989</td>\n",
       "      <td>-0.268869</td>\n",
       "      <td>-0.819873</td>\n",
       "      <td>0.1667</td>\n",
       "    </tr>\n",
       "    <tr>\n",
       "      <th>4</th>\n",
       "      <td>315c96c26c9aac</td>\n",
       "      <td>-0.397257</td>\n",
       "      <td>-0.645129</td>\n",
       "      <td>-0.179863</td>\n",
       "      <td>-0.574191</td>\n",
       "      <td>-0.37668</td>\n",
       "      <td>-0.511252</td>\n",
       "      <td>0</td>\n",
       "      <td>0</td>\n",
       "      <td>0</td>\n",
       "      <td>0</td>\n",
       "      <td>1</td>\n",
       "      <td>0</td>\n",
       "      <td>0</td>\n",
       "      <td>0</td>\n",
       "      <td>0</td>\n",
       "      <td>0</td>\n",
       "      <td>-0.804784</td>\n",
       "      <td>0.048264</td>\n",
       "      <td>0.641438</td>\n",
       "      <td>0.697088</td>\n",
       "      <td>0</td>\n",
       "      <td>0</td>\n",
       "      <td>0</td>\n",
       "      <td>0</td>\n",
       "      <td>0</td>\n",
       "      <td>0</td>\n",
       "      <td>0</td>\n",
       "      <td>0</td>\n",
       "      <td>0</td>\n",
       "      <td>0</td>\n",
       "      <td>0</td>\n",
       "      <td>0</td>\n",
       "      <td>0</td>\n",
       "      <td>1</td>\n",
       "      <td>0</td>\n",
       "      <td>0</td>\n",
       "      <td>0</td>\n",
       "      <td>0</td>\n",
       "      <td>0</td>\n",
       "      <td>0</td>\n",
       "      <td>0</td>\n",
       "      <td>0</td>\n",
       "      <td>0</td>\n",
       "      <td>0</td>\n",
       "      <td>0</td>\n",
       "      <td>1</td>\n",
       "      <td>0</td>\n",
       "      <td>0</td>\n",
       "      <td>0</td>\n",
       "      <td>0</td>\n",
       "      <td>0</td>\n",
       "      <td>0</td>\n",
       "      <td>0</td>\n",
       "      <td>0</td>\n",
       "      <td>0</td>\n",
       "      <td>1</td>\n",
       "      <td>-0.601014</td>\n",
       "      <td>-0.34873</td>\n",
       "      <td>-0.404524</td>\n",
       "      <td>-0.047648</td>\n",
       "      <td>-0.147836</td>\n",
       "      <td>-0.142589</td>\n",
       "      <td>-0.085499</td>\n",
       "      <td>-0.933224</td>\n",
       "      <td>-0.675945</td>\n",
       "      <td>-0.819873</td>\n",
       "      <td>0.1875</td>\n",
       "    </tr>\n",
       "  </tbody>\n",
       "</table>\n",
       "</div>"
      ],
      "text/plain": [
       "               Id   assists    boosts  damageDealt     DBNOs  headshotKills  \\\n",
       "0  7f96b2f878858a -0.397257 -0.645129    -0.765410 -0.574191       -0.37668   \n",
       "1  eef90569b9d03c -0.397257 -0.645129    -0.229810 -0.574191       -0.37668   \n",
       "2  1eaf90ac73de72  1.301767 -0.645129    -0.367238 -0.574191       -0.37668   \n",
       "3  4616d365dd2853 -0.397257 -0.645129    -0.572765 -0.574191       -0.37668   \n",
       "4  315c96c26c9aac -0.397257 -0.645129    -0.179863 -0.574191       -0.37668   \n",
       "\n",
       "      heals  killPlace_Group1  killPlace_Group2  killPlace_Group3  \\\n",
       "0 -0.511252                 0                 0                 0   \n",
       "1 -0.511252                 0                 0                 0   \n",
       "2 -0.511252                 0                 0                 0   \n",
       "3 -0.511252                 0                 0                 0   \n",
       "4 -0.511252                 0                 0                 0   \n",
       "\n",
       "   killPlace_Group4  killPlace_Group5  killPlace_Group6  killPlace_Group7  \\\n",
       "0                 0                 0                 1                 0   \n",
       "1                 0                 0                 1                 0   \n",
       "2                 0                 1                 0                 0   \n",
       "3                 0                 0                 0                 0   \n",
       "4                 0                 1                 0                 0   \n",
       "\n",
       "   killPlace_Group8  killPlace_Group9  killPlace_Group10  killPoints  \\\n",
       "0                 0                 0                  0    1.172889   \n",
       "1                 0                 0                  0   -0.804784   \n",
       "2                 0                 0                  0   -0.804784   \n",
       "3                 1                 0                  0   -0.804784   \n",
       "4                 0                 0                  0   -0.804784   \n",
       "\n",
       "      kills  killStreaks  longestKill  crashfpp  crashtpp  duo  duo-fpp  \\\n",
       "0 -0.593402    -0.765087    -0.451176         0         0    0        0   \n",
       "1 -0.593402    -0.765087    -0.451176         0         0    0        0   \n",
       "2 -0.593402    -0.765087    -0.451176         0         0    1        0   \n",
       "3 -0.593402    -0.765087    -0.451176         0         0    0        0   \n",
       "4  0.048264     0.641438     0.697088         0         0    0        0   \n",
       "\n",
       "   flarefpp  flaretpp  normal-duo  normal-duo-fpp  normal-solo  \\\n",
       "0         0         0           0               0            0   \n",
       "1         0         0           0               0            0   \n",
       "2         0         0           0               0            0   \n",
       "3         0         0           0               0            0   \n",
       "4         0         0           0               0            0   \n",
       "\n",
       "   normal-solo-fpp  normal-squad  normal-squad-fpp  solo  solo-fpp  squad  \\\n",
       "0                0             0                 0     0         0      0   \n",
       "1                0             0                 0     0         0      0   \n",
       "2                0             0                 0     0         0      0   \n",
       "3                0             0                 0     0         0      0   \n",
       "4                0             0                 0     0         1      0   \n",
       "\n",
       "   squad-fpp  maxPlace_Group1  maxPlace_Group2  maxPlace_Group3  \\\n",
       "0          1                0                0                1   \n",
       "1          1                0                0                1   \n",
       "2          0                0                0                0   \n",
       "3          1                0                0                0   \n",
       "4          0                0                0                0   \n",
       "\n",
       "   maxPlace_Group4  maxPlace_Group5  maxPlace_Group6  maxPlace_Group7  \\\n",
       "0                0                0                0                0   \n",
       "1                0                0                0                0   \n",
       "2                0                1                0                0   \n",
       "3                1                0                0                0   \n",
       "4                0                0                0                0   \n",
       "\n",
       "   maxPlace_Group8  maxPlace_Group9  maxPlace_Group10  numGroups_Group1  \\\n",
       "0                0                0                 0                 0   \n",
       "1                0                0                 0                 0   \n",
       "2                0                0                 0                 0   \n",
       "3                0                0                 0                 0   \n",
       "4                0                0                 1                 0   \n",
       "\n",
       "   numGroups_Group2  numGroups_Group3  numGroups_Group4  numGroups_Group5  \\\n",
       "0                 0                 1                 0                 0   \n",
       "1                 0                 1                 0                 0   \n",
       "2                 0                 0                 0                 1   \n",
       "3                 0                 1                 0                 0   \n",
       "4                 0                 0                 0                 0   \n",
       "\n",
       "   numGroups_Group6  numGroups_Group7  numGroups_Group8  numGroups_Group9  \\\n",
       "0                 0                 0                 0                 0   \n",
       "1                 0                 0                 0                 0   \n",
       "2                 0                 0                 0                 0   \n",
       "3                 0                 0                 0                 0   \n",
       "4                 0                 0                 0                 0   \n",
       "\n",
       "   numGroups_Group10  matchDuration  revives  rideDistance  roadKills  \\\n",
       "0                  0      -1.057071 -0.34873     -0.404524  -0.047648   \n",
       "1                  0       0.763290 -0.34873     -0.404521  -0.047648   \n",
       "2                  0      -1.010692 -0.34873     -0.404524  -0.047648   \n",
       "3                  0      -0.554636 -0.34873     -0.404524  -0.047648   \n",
       "4                  1      -0.601014 -0.34873     -0.404524  -0.047648   \n",
       "\n",
       "   swimDistance  teamKills  vehicleDestroys  walkDistance  weaponsAcquired  \\\n",
       "0     -0.147836  -0.142589        -0.085499     -0.768416        -1.083021   \n",
       "1      0.214105  -0.142589        -0.085499      0.236403         0.545283   \n",
       "2     -0.147836  -0.142589        -0.085499     -0.838547        -0.675945   \n",
       "3     -0.147836  -0.142589        -0.085499     -0.803989        -0.268869   \n",
       "4     -0.147836  -0.142589        -0.085499     -0.933224        -0.675945   \n",
       "\n",
       "   winPoints  winPlacePerc  \n",
       "0   1.162011        0.4444  \n",
       "1  -0.819873        0.6400  \n",
       "2  -0.819873        0.7755  \n",
       "3  -0.819873        0.1667  \n",
       "4  -0.819873        0.1875  "
      ]
     },
     "execution_count": 105,
     "metadata": {},
     "output_type": "execute_result"
    }
   ],
   "source": [
    "reordered_checkpoint_8_columns = ['Id', 'assists', 'boosts', 'damageDealt', 'DBNOs', 'headshotKills',\n",
    "       'heals', 'killPlace_Group1', 'killPlace_Group2', 'killPlace_Group3',\n",
    "       'killPlace_Group4', 'killPlace_Group5', 'killPlace_Group6',\n",
    "       'killPlace_Group7', 'killPlace_Group8', 'killPlace_Group9',\n",
    "       'killPlace_Group10', 'killPoints', 'kills', 'killStreaks',\n",
    "       'longestKill', 'crashfpp', 'crashtpp',\n",
    "       'duo', 'duo-fpp', 'flarefpp', 'flaretpp', 'normal-duo',\n",
    "       'normal-duo-fpp', 'normal-solo', 'normal-solo-fpp', 'normal-squad',\n",
    "       'normal-squad-fpp', 'solo', 'solo-fpp', 'squad', 'squad-fpp',\n",
    "       'maxPlace_Group1', 'maxPlace_Group2', 'maxPlace_Group3',\n",
    "       'maxPlace_Group4', 'maxPlace_Group5', 'maxPlace_Group6',\n",
    "       'maxPlace_Group7', 'maxPlace_Group8', 'maxPlace_Group9',\n",
    "       'maxPlace_Group10', 'numGroups_Group1', 'numGroups_Group2',\n",
    "       'numGroups_Group3', 'numGroups_Group4', 'numGroups_Group5',\n",
    "       'numGroups_Group6', 'numGroups_Group7', 'numGroups_Group8',\n",
    "       'numGroups_Group9', 'numGroups_Group10', 'matchDuration', 'revives', 'rideDistance', 'roadKills',\n",
    "       'swimDistance', 'teamKills', 'vehicleDestroys', 'walkDistance',\n",
    "       'weaponsAcquired', 'winPoints', 'winPlacePerc']\n",
    "df_checkpoint_8 = df_checkpoint_8[reordered_checkpoint_8_columns]\n",
    "df_checkpoint_8.head()"
   ]
  },
  {
   "cell_type": "markdown",
   "metadata": {},
   "source": [
    "## Final Checkpoint: Ready to Analyze!"
   ]
  },
  {
   "cell_type": "code",
   "execution_count": 106,
   "metadata": {},
   "outputs": [],
   "source": [
    "preprocessed_data = df_checkpoint_8.copy()"
   ]
  },
  {
   "cell_type": "code",
   "execution_count": 112,
   "metadata": {
    "scrolled": true
   },
   "outputs": [
    {
     "name": "stdout",
     "output_type": "stream",
     "text": [
      "<class 'pandas.core.frame.DataFrame'>\n",
      "Int64Index: 4446965 entries, 0 to 4446965\n",
      "Data columns (total 68 columns):\n",
      "Id                   object\n",
      "assists              float32\n",
      "boosts               float32\n",
      "damageDealt          float32\n",
      "DBNOs                float32\n",
      "headshotKills        float32\n",
      "heals                float32\n",
      "killPlace_Group1     int8\n",
      "killPlace_Group2     int8\n",
      "killPlace_Group3     int8\n",
      "killPlace_Group4     int8\n",
      "killPlace_Group5     int8\n",
      "killPlace_Group6     int8\n",
      "killPlace_Group7     int8\n",
      "killPlace_Group8     int8\n",
      "killPlace_Group9     int8\n",
      "killPlace_Group10    int8\n",
      "killPoints           float32\n",
      "kills                float32\n",
      "killStreaks          float32\n",
      "longestKill          float32\n",
      "crashfpp             int8\n",
      "crashtpp             int8\n",
      "duo                  int8\n",
      "duo-fpp              int8\n",
      "flarefpp             int8\n",
      "flaretpp             int8\n",
      "normal-duo           int8\n",
      "normal-duo-fpp       int8\n",
      "normal-solo          int8\n",
      "normal-solo-fpp      int8\n",
      "normal-squad         int8\n",
      "normal-squad-fpp     int8\n",
      "solo                 int8\n",
      "solo-fpp             int8\n",
      "squad                int8\n",
      "squad-fpp            int8\n",
      "maxPlace_Group1      int8\n",
      "maxPlace_Group2      int8\n",
      "maxPlace_Group3      int8\n",
      "maxPlace_Group4      int8\n",
      "maxPlace_Group5      int8\n",
      "maxPlace_Group6      int8\n",
      "maxPlace_Group7      int8\n",
      "maxPlace_Group8      int8\n",
      "maxPlace_Group9      int8\n",
      "maxPlace_Group10     int8\n",
      "numGroups_Group1     int8\n",
      "numGroups_Group2     int8\n",
      "numGroups_Group3     int8\n",
      "numGroups_Group4     int8\n",
      "numGroups_Group5     int8\n",
      "numGroups_Group6     int8\n",
      "numGroups_Group7     int8\n",
      "numGroups_Group8     int8\n",
      "numGroups_Group9     int8\n",
      "numGroups_Group10    int8\n",
      "matchDuration        float32\n",
      "revives              float32\n",
      "rideDistance         float32\n",
      "roadKills            float32\n",
      "swimDistance         float32\n",
      "teamKills            float32\n",
      "vehicleDestroys      float32\n",
      "walkDistance         float32\n",
      "weaponsAcquired      float32\n",
      "winPoints            float32\n",
      "winPlacePerc         float32\n",
      "dtypes: float32(21), int8(46), object(1)\n",
      "memory usage: 619.2+ MB\n"
     ]
    }
   ],
   "source": [
    "preprocessed_data = reduce_mem_usage(preprocessed_data)\n",
    "preprocessed_data.info()"
   ]
  },
  {
   "cell_type": "code",
   "execution_count": 113,
   "metadata": {},
   "outputs": [
    {
     "data": {
      "text/html": [
       "<div>\n",
       "<style scoped>\n",
       "    .dataframe tbody tr th:only-of-type {\n",
       "        vertical-align: middle;\n",
       "    }\n",
       "\n",
       "    .dataframe tbody tr th {\n",
       "        vertical-align: top;\n",
       "    }\n",
       "\n",
       "    .dataframe thead th {\n",
       "        text-align: right;\n",
       "    }\n",
       "</style>\n",
       "<table border=\"1\" class=\"dataframe\">\n",
       "  <thead>\n",
       "    <tr style=\"text-align: right;\">\n",
       "      <th></th>\n",
       "      <th>Id</th>\n",
       "      <th>assists</th>\n",
       "      <th>boosts</th>\n",
       "      <th>damageDealt</th>\n",
       "      <th>DBNOs</th>\n",
       "      <th>headshotKills</th>\n",
       "      <th>heals</th>\n",
       "      <th>killPlace_Group1</th>\n",
       "      <th>killPlace_Group2</th>\n",
       "      <th>killPlace_Group3</th>\n",
       "      <th>killPlace_Group4</th>\n",
       "      <th>killPlace_Group5</th>\n",
       "      <th>killPlace_Group6</th>\n",
       "      <th>killPlace_Group7</th>\n",
       "      <th>killPlace_Group8</th>\n",
       "      <th>killPlace_Group9</th>\n",
       "      <th>killPlace_Group10</th>\n",
       "      <th>killPoints</th>\n",
       "      <th>kills</th>\n",
       "      <th>killStreaks</th>\n",
       "      <th>longestKill</th>\n",
       "      <th>crashfpp</th>\n",
       "      <th>crashtpp</th>\n",
       "      <th>duo</th>\n",
       "      <th>duo-fpp</th>\n",
       "      <th>flarefpp</th>\n",
       "      <th>flaretpp</th>\n",
       "      <th>normal-duo</th>\n",
       "      <th>normal-duo-fpp</th>\n",
       "      <th>normal-solo</th>\n",
       "      <th>normal-solo-fpp</th>\n",
       "      <th>normal-squad</th>\n",
       "      <th>normal-squad-fpp</th>\n",
       "      <th>solo</th>\n",
       "      <th>solo-fpp</th>\n",
       "      <th>squad</th>\n",
       "      <th>squad-fpp</th>\n",
       "      <th>maxPlace_Group1</th>\n",
       "      <th>maxPlace_Group2</th>\n",
       "      <th>maxPlace_Group3</th>\n",
       "      <th>maxPlace_Group4</th>\n",
       "      <th>maxPlace_Group5</th>\n",
       "      <th>maxPlace_Group6</th>\n",
       "      <th>maxPlace_Group7</th>\n",
       "      <th>maxPlace_Group8</th>\n",
       "      <th>maxPlace_Group9</th>\n",
       "      <th>maxPlace_Group10</th>\n",
       "      <th>numGroups_Group1</th>\n",
       "      <th>numGroups_Group2</th>\n",
       "      <th>numGroups_Group3</th>\n",
       "      <th>numGroups_Group4</th>\n",
       "      <th>numGroups_Group5</th>\n",
       "      <th>numGroups_Group6</th>\n",
       "      <th>numGroups_Group7</th>\n",
       "      <th>numGroups_Group8</th>\n",
       "      <th>numGroups_Group9</th>\n",
       "      <th>numGroups_Group10</th>\n",
       "      <th>matchDuration</th>\n",
       "      <th>revives</th>\n",
       "      <th>rideDistance</th>\n",
       "      <th>roadKills</th>\n",
       "      <th>swimDistance</th>\n",
       "      <th>teamKills</th>\n",
       "      <th>vehicleDestroys</th>\n",
       "      <th>walkDistance</th>\n",
       "      <th>weaponsAcquired</th>\n",
       "      <th>winPoints</th>\n",
       "      <th>winPlacePerc</th>\n",
       "    </tr>\n",
       "  </thead>\n",
       "  <tbody>\n",
       "    <tr>\n",
       "      <th>0</th>\n",
       "      <td>7f96b2f878858a</td>\n",
       "      <td>-0.397257</td>\n",
       "      <td>-0.645129</td>\n",
       "      <td>-0.765410</td>\n",
       "      <td>-0.574191</td>\n",
       "      <td>-0.37668</td>\n",
       "      <td>-0.511252</td>\n",
       "      <td>0</td>\n",
       "      <td>0</td>\n",
       "      <td>0</td>\n",
       "      <td>0</td>\n",
       "      <td>0</td>\n",
       "      <td>1</td>\n",
       "      <td>0</td>\n",
       "      <td>0</td>\n",
       "      <td>0</td>\n",
       "      <td>0</td>\n",
       "      <td>1.172889</td>\n",
       "      <td>-0.593402</td>\n",
       "      <td>-0.765087</td>\n",
       "      <td>-0.451176</td>\n",
       "      <td>0</td>\n",
       "      <td>0</td>\n",
       "      <td>0</td>\n",
       "      <td>0</td>\n",
       "      <td>0</td>\n",
       "      <td>0</td>\n",
       "      <td>0</td>\n",
       "      <td>0</td>\n",
       "      <td>0</td>\n",
       "      <td>0</td>\n",
       "      <td>0</td>\n",
       "      <td>0</td>\n",
       "      <td>0</td>\n",
       "      <td>0</td>\n",
       "      <td>0</td>\n",
       "      <td>1</td>\n",
       "      <td>0</td>\n",
       "      <td>0</td>\n",
       "      <td>1</td>\n",
       "      <td>0</td>\n",
       "      <td>0</td>\n",
       "      <td>0</td>\n",
       "      <td>0</td>\n",
       "      <td>0</td>\n",
       "      <td>0</td>\n",
       "      <td>0</td>\n",
       "      <td>0</td>\n",
       "      <td>0</td>\n",
       "      <td>1</td>\n",
       "      <td>0</td>\n",
       "      <td>0</td>\n",
       "      <td>0</td>\n",
       "      <td>0</td>\n",
       "      <td>0</td>\n",
       "      <td>0</td>\n",
       "      <td>0</td>\n",
       "      <td>-1.057071</td>\n",
       "      <td>-0.34873</td>\n",
       "      <td>-0.404524</td>\n",
       "      <td>-0.047648</td>\n",
       "      <td>-0.147836</td>\n",
       "      <td>-0.142589</td>\n",
       "      <td>-0.085499</td>\n",
       "      <td>-0.768416</td>\n",
       "      <td>-1.083021</td>\n",
       "      <td>1.162011</td>\n",
       "      <td>0.4444</td>\n",
       "    </tr>\n",
       "    <tr>\n",
       "      <th>1</th>\n",
       "      <td>eef90569b9d03c</td>\n",
       "      <td>-0.397257</td>\n",
       "      <td>-0.645129</td>\n",
       "      <td>-0.229810</td>\n",
       "      <td>-0.574191</td>\n",
       "      <td>-0.37668</td>\n",
       "      <td>-0.511252</td>\n",
       "      <td>0</td>\n",
       "      <td>0</td>\n",
       "      <td>0</td>\n",
       "      <td>0</td>\n",
       "      <td>0</td>\n",
       "      <td>1</td>\n",
       "      <td>0</td>\n",
       "      <td>0</td>\n",
       "      <td>0</td>\n",
       "      <td>0</td>\n",
       "      <td>-0.804784</td>\n",
       "      <td>-0.593402</td>\n",
       "      <td>-0.765087</td>\n",
       "      <td>-0.451176</td>\n",
       "      <td>0</td>\n",
       "      <td>0</td>\n",
       "      <td>0</td>\n",
       "      <td>0</td>\n",
       "      <td>0</td>\n",
       "      <td>0</td>\n",
       "      <td>0</td>\n",
       "      <td>0</td>\n",
       "      <td>0</td>\n",
       "      <td>0</td>\n",
       "      <td>0</td>\n",
       "      <td>0</td>\n",
       "      <td>0</td>\n",
       "      <td>0</td>\n",
       "      <td>0</td>\n",
       "      <td>1</td>\n",
       "      <td>0</td>\n",
       "      <td>0</td>\n",
       "      <td>1</td>\n",
       "      <td>0</td>\n",
       "      <td>0</td>\n",
       "      <td>0</td>\n",
       "      <td>0</td>\n",
       "      <td>0</td>\n",
       "      <td>0</td>\n",
       "      <td>0</td>\n",
       "      <td>0</td>\n",
       "      <td>0</td>\n",
       "      <td>1</td>\n",
       "      <td>0</td>\n",
       "      <td>0</td>\n",
       "      <td>0</td>\n",
       "      <td>0</td>\n",
       "      <td>0</td>\n",
       "      <td>0</td>\n",
       "      <td>0</td>\n",
       "      <td>0.763290</td>\n",
       "      <td>-0.34873</td>\n",
       "      <td>-0.404521</td>\n",
       "      <td>-0.047648</td>\n",
       "      <td>0.214105</td>\n",
       "      <td>-0.142589</td>\n",
       "      <td>-0.085499</td>\n",
       "      <td>0.236403</td>\n",
       "      <td>0.545283</td>\n",
       "      <td>-0.819873</td>\n",
       "      <td>0.6400</td>\n",
       "    </tr>\n",
       "    <tr>\n",
       "      <th>2</th>\n",
       "      <td>1eaf90ac73de72</td>\n",
       "      <td>1.301767</td>\n",
       "      <td>-0.645129</td>\n",
       "      <td>-0.367238</td>\n",
       "      <td>-0.574191</td>\n",
       "      <td>-0.37668</td>\n",
       "      <td>-0.511252</td>\n",
       "      <td>0</td>\n",
       "      <td>0</td>\n",
       "      <td>0</td>\n",
       "      <td>0</td>\n",
       "      <td>1</td>\n",
       "      <td>0</td>\n",
       "      <td>0</td>\n",
       "      <td>0</td>\n",
       "      <td>0</td>\n",
       "      <td>0</td>\n",
       "      <td>-0.804784</td>\n",
       "      <td>-0.593402</td>\n",
       "      <td>-0.765087</td>\n",
       "      <td>-0.451176</td>\n",
       "      <td>0</td>\n",
       "      <td>0</td>\n",
       "      <td>1</td>\n",
       "      <td>0</td>\n",
       "      <td>0</td>\n",
       "      <td>0</td>\n",
       "      <td>0</td>\n",
       "      <td>0</td>\n",
       "      <td>0</td>\n",
       "      <td>0</td>\n",
       "      <td>0</td>\n",
       "      <td>0</td>\n",
       "      <td>0</td>\n",
       "      <td>0</td>\n",
       "      <td>0</td>\n",
       "      <td>0</td>\n",
       "      <td>0</td>\n",
       "      <td>0</td>\n",
       "      <td>0</td>\n",
       "      <td>0</td>\n",
       "      <td>1</td>\n",
       "      <td>0</td>\n",
       "      <td>0</td>\n",
       "      <td>0</td>\n",
       "      <td>0</td>\n",
       "      <td>0</td>\n",
       "      <td>0</td>\n",
       "      <td>0</td>\n",
       "      <td>0</td>\n",
       "      <td>0</td>\n",
       "      <td>1</td>\n",
       "      <td>0</td>\n",
       "      <td>0</td>\n",
       "      <td>0</td>\n",
       "      <td>0</td>\n",
       "      <td>0</td>\n",
       "      <td>-1.010692</td>\n",
       "      <td>-0.34873</td>\n",
       "      <td>-0.404524</td>\n",
       "      <td>-0.047648</td>\n",
       "      <td>-0.147836</td>\n",
       "      <td>-0.142589</td>\n",
       "      <td>-0.085499</td>\n",
       "      <td>-0.838547</td>\n",
       "      <td>-0.675945</td>\n",
       "      <td>-0.819873</td>\n",
       "      <td>0.7755</td>\n",
       "    </tr>\n",
       "    <tr>\n",
       "      <th>3</th>\n",
       "      <td>4616d365dd2853</td>\n",
       "      <td>-0.397257</td>\n",
       "      <td>-0.645129</td>\n",
       "      <td>-0.572765</td>\n",
       "      <td>-0.574191</td>\n",
       "      <td>-0.37668</td>\n",
       "      <td>-0.511252</td>\n",
       "      <td>0</td>\n",
       "      <td>0</td>\n",
       "      <td>0</td>\n",
       "      <td>0</td>\n",
       "      <td>0</td>\n",
       "      <td>0</td>\n",
       "      <td>0</td>\n",
       "      <td>1</td>\n",
       "      <td>0</td>\n",
       "      <td>0</td>\n",
       "      <td>-0.804784</td>\n",
       "      <td>-0.593402</td>\n",
       "      <td>-0.765087</td>\n",
       "      <td>-0.451176</td>\n",
       "      <td>0</td>\n",
       "      <td>0</td>\n",
       "      <td>0</td>\n",
       "      <td>0</td>\n",
       "      <td>0</td>\n",
       "      <td>0</td>\n",
       "      <td>0</td>\n",
       "      <td>0</td>\n",
       "      <td>0</td>\n",
       "      <td>0</td>\n",
       "      <td>0</td>\n",
       "      <td>0</td>\n",
       "      <td>0</td>\n",
       "      <td>0</td>\n",
       "      <td>0</td>\n",
       "      <td>1</td>\n",
       "      <td>0</td>\n",
       "      <td>0</td>\n",
       "      <td>0</td>\n",
       "      <td>1</td>\n",
       "      <td>0</td>\n",
       "      <td>0</td>\n",
       "      <td>0</td>\n",
       "      <td>0</td>\n",
       "      <td>0</td>\n",
       "      <td>0</td>\n",
       "      <td>0</td>\n",
       "      <td>0</td>\n",
       "      <td>1</td>\n",
       "      <td>0</td>\n",
       "      <td>0</td>\n",
       "      <td>0</td>\n",
       "      <td>0</td>\n",
       "      <td>0</td>\n",
       "      <td>0</td>\n",
       "      <td>0</td>\n",
       "      <td>-0.554636</td>\n",
       "      <td>-0.34873</td>\n",
       "      <td>-0.404524</td>\n",
       "      <td>-0.047648</td>\n",
       "      <td>-0.147836</td>\n",
       "      <td>-0.142589</td>\n",
       "      <td>-0.085499</td>\n",
       "      <td>-0.803989</td>\n",
       "      <td>-0.268869</td>\n",
       "      <td>-0.819873</td>\n",
       "      <td>0.1667</td>\n",
       "    </tr>\n",
       "    <tr>\n",
       "      <th>4</th>\n",
       "      <td>315c96c26c9aac</td>\n",
       "      <td>-0.397257</td>\n",
       "      <td>-0.645129</td>\n",
       "      <td>-0.179863</td>\n",
       "      <td>-0.574191</td>\n",
       "      <td>-0.37668</td>\n",
       "      <td>-0.511252</td>\n",
       "      <td>0</td>\n",
       "      <td>0</td>\n",
       "      <td>0</td>\n",
       "      <td>0</td>\n",
       "      <td>1</td>\n",
       "      <td>0</td>\n",
       "      <td>0</td>\n",
       "      <td>0</td>\n",
       "      <td>0</td>\n",
       "      <td>0</td>\n",
       "      <td>-0.804784</td>\n",
       "      <td>0.048264</td>\n",
       "      <td>0.641438</td>\n",
       "      <td>0.697088</td>\n",
       "      <td>0</td>\n",
       "      <td>0</td>\n",
       "      <td>0</td>\n",
       "      <td>0</td>\n",
       "      <td>0</td>\n",
       "      <td>0</td>\n",
       "      <td>0</td>\n",
       "      <td>0</td>\n",
       "      <td>0</td>\n",
       "      <td>0</td>\n",
       "      <td>0</td>\n",
       "      <td>0</td>\n",
       "      <td>0</td>\n",
       "      <td>1</td>\n",
       "      <td>0</td>\n",
       "      <td>0</td>\n",
       "      <td>0</td>\n",
       "      <td>0</td>\n",
       "      <td>0</td>\n",
       "      <td>0</td>\n",
       "      <td>0</td>\n",
       "      <td>0</td>\n",
       "      <td>0</td>\n",
       "      <td>0</td>\n",
       "      <td>0</td>\n",
       "      <td>1</td>\n",
       "      <td>0</td>\n",
       "      <td>0</td>\n",
       "      <td>0</td>\n",
       "      <td>0</td>\n",
       "      <td>0</td>\n",
       "      <td>0</td>\n",
       "      <td>0</td>\n",
       "      <td>0</td>\n",
       "      <td>0</td>\n",
       "      <td>1</td>\n",
       "      <td>-0.601014</td>\n",
       "      <td>-0.34873</td>\n",
       "      <td>-0.404524</td>\n",
       "      <td>-0.047648</td>\n",
       "      <td>-0.147836</td>\n",
       "      <td>-0.142589</td>\n",
       "      <td>-0.085499</td>\n",
       "      <td>-0.933224</td>\n",
       "      <td>-0.675945</td>\n",
       "      <td>-0.819873</td>\n",
       "      <td>0.1875</td>\n",
       "    </tr>\n",
       "  </tbody>\n",
       "</table>\n",
       "</div>"
      ],
      "text/plain": [
       "               Id   assists    boosts  damageDealt     DBNOs  headshotKills  \\\n",
       "0  7f96b2f878858a -0.397257 -0.645129    -0.765410 -0.574191       -0.37668   \n",
       "1  eef90569b9d03c -0.397257 -0.645129    -0.229810 -0.574191       -0.37668   \n",
       "2  1eaf90ac73de72  1.301767 -0.645129    -0.367238 -0.574191       -0.37668   \n",
       "3  4616d365dd2853 -0.397257 -0.645129    -0.572765 -0.574191       -0.37668   \n",
       "4  315c96c26c9aac -0.397257 -0.645129    -0.179863 -0.574191       -0.37668   \n",
       "\n",
       "      heals  killPlace_Group1  killPlace_Group2  killPlace_Group3  \\\n",
       "0 -0.511252                 0                 0                 0   \n",
       "1 -0.511252                 0                 0                 0   \n",
       "2 -0.511252                 0                 0                 0   \n",
       "3 -0.511252                 0                 0                 0   \n",
       "4 -0.511252                 0                 0                 0   \n",
       "\n",
       "   killPlace_Group4  killPlace_Group5  killPlace_Group6  killPlace_Group7  \\\n",
       "0                 0                 0                 1                 0   \n",
       "1                 0                 0                 1                 0   \n",
       "2                 0                 1                 0                 0   \n",
       "3                 0                 0                 0                 0   \n",
       "4                 0                 1                 0                 0   \n",
       "\n",
       "   killPlace_Group8  killPlace_Group9  killPlace_Group10  killPoints  \\\n",
       "0                 0                 0                  0    1.172889   \n",
       "1                 0                 0                  0   -0.804784   \n",
       "2                 0                 0                  0   -0.804784   \n",
       "3                 1                 0                  0   -0.804784   \n",
       "4                 0                 0                  0   -0.804784   \n",
       "\n",
       "      kills  killStreaks  longestKill  crashfpp  crashtpp  duo  duo-fpp  \\\n",
       "0 -0.593402    -0.765087    -0.451176         0         0    0        0   \n",
       "1 -0.593402    -0.765087    -0.451176         0         0    0        0   \n",
       "2 -0.593402    -0.765087    -0.451176         0         0    1        0   \n",
       "3 -0.593402    -0.765087    -0.451176         0         0    0        0   \n",
       "4  0.048264     0.641438     0.697088         0         0    0        0   \n",
       "\n",
       "   flarefpp  flaretpp  normal-duo  normal-duo-fpp  normal-solo  \\\n",
       "0         0         0           0               0            0   \n",
       "1         0         0           0               0            0   \n",
       "2         0         0           0               0            0   \n",
       "3         0         0           0               0            0   \n",
       "4         0         0           0               0            0   \n",
       "\n",
       "   normal-solo-fpp  normal-squad  normal-squad-fpp  solo  solo-fpp  squad  \\\n",
       "0                0             0                 0     0         0      0   \n",
       "1                0             0                 0     0         0      0   \n",
       "2                0             0                 0     0         0      0   \n",
       "3                0             0                 0     0         0      0   \n",
       "4                0             0                 0     0         1      0   \n",
       "\n",
       "   squad-fpp  maxPlace_Group1  maxPlace_Group2  maxPlace_Group3  \\\n",
       "0          1                0                0                1   \n",
       "1          1                0                0                1   \n",
       "2          0                0                0                0   \n",
       "3          1                0                0                0   \n",
       "4          0                0                0                0   \n",
       "\n",
       "   maxPlace_Group4  maxPlace_Group5  maxPlace_Group6  maxPlace_Group7  \\\n",
       "0                0                0                0                0   \n",
       "1                0                0                0                0   \n",
       "2                0                1                0                0   \n",
       "3                1                0                0                0   \n",
       "4                0                0                0                0   \n",
       "\n",
       "   maxPlace_Group8  maxPlace_Group9  maxPlace_Group10  numGroups_Group1  \\\n",
       "0                0                0                 0                 0   \n",
       "1                0                0                 0                 0   \n",
       "2                0                0                 0                 0   \n",
       "3                0                0                 0                 0   \n",
       "4                0                0                 1                 0   \n",
       "\n",
       "   numGroups_Group2  numGroups_Group3  numGroups_Group4  numGroups_Group5  \\\n",
       "0                 0                 1                 0                 0   \n",
       "1                 0                 1                 0                 0   \n",
       "2                 0                 0                 0                 1   \n",
       "3                 0                 1                 0                 0   \n",
       "4                 0                 0                 0                 0   \n",
       "\n",
       "   numGroups_Group6  numGroups_Group7  numGroups_Group8  numGroups_Group9  \\\n",
       "0                 0                 0                 0                 0   \n",
       "1                 0                 0                 0                 0   \n",
       "2                 0                 0                 0                 0   \n",
       "3                 0                 0                 0                 0   \n",
       "4                 0                 0                 0                 0   \n",
       "\n",
       "   numGroups_Group10  matchDuration  revives  rideDistance  roadKills  \\\n",
       "0                  0      -1.057071 -0.34873     -0.404524  -0.047648   \n",
       "1                  0       0.763290 -0.34873     -0.404521  -0.047648   \n",
       "2                  0      -1.010692 -0.34873     -0.404524  -0.047648   \n",
       "3                  0      -0.554636 -0.34873     -0.404524  -0.047648   \n",
       "4                  1      -0.601014 -0.34873     -0.404524  -0.047648   \n",
       "\n",
       "   swimDistance  teamKills  vehicleDestroys  walkDistance  weaponsAcquired  \\\n",
       "0     -0.147836  -0.142589        -0.085499     -0.768416        -1.083021   \n",
       "1      0.214105  -0.142589        -0.085499      0.236403         0.545283   \n",
       "2     -0.147836  -0.142589        -0.085499     -0.838547        -0.675945   \n",
       "3     -0.147836  -0.142589        -0.085499     -0.803989        -0.268869   \n",
       "4     -0.147836  -0.142589        -0.085499     -0.933224        -0.675945   \n",
       "\n",
       "   winPoints  winPlacePerc  \n",
       "0   1.162011        0.4444  \n",
       "1  -0.819873        0.6400  \n",
       "2  -0.819873        0.7755  \n",
       "3  -0.819873        0.1667  \n",
       "4  -0.819873        0.1875  "
      ]
     },
     "execution_count": 113,
     "metadata": {},
     "output_type": "execute_result"
    }
   ],
   "source": [
    "preprocessed_data.head()"
   ]
  },
  {
   "cell_type": "markdown",
   "metadata": {},
   "source": [
    "## Exporting to new CSV file:"
   ]
  },
  {
   "cell_type": "code",
   "execution_count": 114,
   "metadata": {},
   "outputs": [],
   "source": [
    "# preprocessed_data.to_csv(\"PUBG_preprocessed_training_data.csv\")"
   ]
  },
  {
   "cell_type": "markdown",
   "metadata": {},
   "source": [
    "### Final shape of Data:"
   ]
  },
  {
   "cell_type": "code",
   "execution_count": 115,
   "metadata": {},
   "outputs": [
    {
     "data": {
      "text/plain": [
       "(4446965, 68)"
      ]
     },
     "execution_count": 115,
     "metadata": {},
     "output_type": "execute_result"
    }
   ],
   "source": [
    "preprocessed_data.shape"
   ]
  },
  {
   "cell_type": "markdown",
   "metadata": {},
   "source": [
    "### Total Data Points:"
   ]
  },
  {
   "cell_type": "code",
   "execution_count": 116,
   "metadata": {},
   "outputs": [
    {
     "data": {
      "text/plain": [
       "302393620"
      ]
     },
     "execution_count": 116,
     "metadata": {},
     "output_type": "execute_result"
    }
   ],
   "source": [
    "4446965 * 68"
   ]
  },
  {
   "cell_type": "code",
   "execution_count": null,
   "metadata": {},
   "outputs": [],
   "source": []
  }
 ],
 "metadata": {
  "kernelspec": {
   "display_name": "Python 3",
   "language": "python",
   "name": "python3"
  },
  "language_info": {
   "codemirror_mode": {
    "name": "ipython",
    "version": 3
   },
   "file_extension": ".py",
   "mimetype": "text/x-python",
   "name": "python",
   "nbconvert_exporter": "python",
   "pygments_lexer": "ipython3",
   "version": "3.6.7"
  }
 },
 "nbformat": 4,
 "nbformat_minor": 2
}
